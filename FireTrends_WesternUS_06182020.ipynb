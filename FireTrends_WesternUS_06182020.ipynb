{
  "nbformat": 4,
  "nbformat_minor": 0,
  "metadata": {
    "colab": {
      "name": "FireTrends_WesternUS_06182020",
      "provenance": [],
      "collapsed_sections": [],
      "toc_visible": true,
      "machine_shape": "hm",
      "authorship_tag": "ABX9TyPauUR6x2tgRV5+xuZXCN9Q",
      "include_colab_link": true
    },
    "kernelspec": {
      "name": "python3",
      "display_name": "Python 3"
    }
  },
  "cells": [
    {
      "cell_type": "markdown",
      "metadata": {
        "id": "view-in-github",
        "colab_type": "text"
      },
      "source": [
        "<a href=\"https://colab.research.google.com/github/escaduto/WesternFireTrends/blob/master/FireTrends_WesternUS_06182020.ipynb\" target=\"_parent\"><img src=\"https://colab.research.google.com/assets/colab-badge.svg\" alt=\"Open In Colab\"/></a>"
      ]
    },
    {
      "cell_type": "markdown",
      "metadata": {
        "id": "bhqDyDLy6Q98",
        "colab_type": "text"
      },
      "source": [
        "# Fire Trends in the Western US"
      ]
    },
    {
      "cell_type": "markdown",
      "metadata": {
        "id": "tFonS8q4pRWj",
        "colab_type": "text"
      },
      "source": [
        "## Setup Connection to Drive"
      ]
    },
    {
      "cell_type": "code",
      "metadata": {
        "id": "eMCHZj6PpL3w",
        "colab_type": "code",
        "colab": {
          "base_uri": "https://localhost:8080/",
          "height": 139
        },
        "outputId": "6094e7a6-5376-4fe9-e0e3-97bdb8b59dd5"
      },
      "source": [
        "from google.colab import drive # import drive from google colab\n",
        "ROOT = \"/content/drive\"     # default location for the drive\n",
        "print(ROOT)                 # print content of ROOT (Optional)\n",
        "\n",
        "drive.mount(ROOT)           # we mount the google drive at /content/drive"
      ],
      "execution_count": 1,
      "outputs": [
        {
          "output_type": "stream",
          "text": [
            "/content/drive\n",
            "Go to this URL in a browser: https://accounts.google.com/o/oauth2/auth?client_id=947318989803-6bn6qk8qdgf4n4g3pfee6491hc0brc4i.apps.googleusercontent.com&redirect_uri=urn%3aietf%3awg%3aoauth%3a2.0%3aoob&response_type=code&scope=email%20https%3a%2f%2fwww.googleapis.com%2fauth%2fdocs.test%20https%3a%2f%2fwww.googleapis.com%2fauth%2fdrive%20https%3a%2f%2fwww.googleapis.com%2fauth%2fdrive.photos.readonly%20https%3a%2f%2fwww.googleapis.com%2fauth%2fpeopleapi.readonly\n",
            "\n",
            "Enter your authorization code:\n",
            "··········\n",
            "Mounted at /content/drive\n"
          ],
          "name": "stdout"
        }
      ]
    },
    {
      "cell_type": "code",
      "metadata": {
        "id": "y237qvlb5kwV",
        "colab_type": "code",
        "colab": {
          "base_uri": "https://localhost:8080/",
          "height": 34
        },
        "outputId": "6988ae2e-d7b2-43be-c87d-021602598d91"
      },
      "source": [
        "%cd \"/content/drive/My Drive/COVID_FireTrends\" \n",
        "\n",
        "import os\n",
        "rootPath = \"/content/drive/My Drive/COVID_FireTrends\"\n",
        "os.chdir(rootPath)"
      ],
      "execution_count": 2,
      "outputs": [
        {
          "output_type": "stream",
          "text": [
            "/content/drive/My Drive/COVID_FireTrends\n"
          ],
          "name": "stdout"
        }
      ]
    },
    {
      "cell_type": "code",
      "metadata": {
        "id": "y61OAhruU-n4",
        "colab_type": "code",
        "colab": {
          "base_uri": "https://localhost:8080/",
          "height": 68
        },
        "outputId": "8961e68e-7619-4329-ca35-75bf56ac03f1"
      },
      "source": [
        "from psutil import virtual_memory\n",
        "ram_gb = virtual_memory().total / 1e9\n",
        "print('Your runtime has {:.1f} gigabytes of available RAM\\n'.format(ram_gb))\n",
        "\n",
        "if ram_gb < 20:\n",
        "  print('To enable a high-RAM runtime, select the Runtime > \"Change runtime type\"')\n",
        "  print('menu, and then select High-RAM in the Runtime shape dropdown. Then, ')\n",
        "  print('re-execute this cell.')\n",
        "else:\n",
        "  print('You are using a high-RAM runtime!')"
      ],
      "execution_count": 3,
      "outputs": [
        {
          "output_type": "stream",
          "text": [
            "Your runtime has 27.4 gigabytes of available RAM\n",
            "\n",
            "You are using a high-RAM runtime!\n"
          ],
          "name": "stdout"
        }
      ]
    },
    {
      "cell_type": "code",
      "metadata": {
        "id": "6QPD1YogLi_M",
        "colab_type": "code",
        "colab": {
          "base_uri": "https://localhost:8080/",
          "height": 34
        },
        "outputId": "2a5fa324-f204-4525-9fa0-a148b204be94"
      },
      "source": [
        "!grep MemTotal /proc/meminfo"
      ],
      "execution_count": 50,
      "outputs": [
        {
          "output_type": "stream",
          "text": [
            "MemTotal:       26751700 kB\n"
          ],
          "name": "stdout"
        }
      ]
    },
    {
      "cell_type": "markdown",
      "metadata": {
        "id": "D95rCgOWFQB_",
        "colab_type": "text"
      },
      "source": [
        "## Import Packages"
      ]
    },
    {
      "cell_type": "code",
      "metadata": {
        "id": "o66RFau97lMx",
        "colab_type": "code",
        "colab": {}
      },
      "source": [
        "%%time \n",
        "\n",
        "# Important library for many geopython libraries\n",
        "!apt install gdal-bin python-gdal python3-gdal \n",
        "# Install rtree - Geopandas requirment\n",
        "!apt install python3-rtree \n",
        "# Install Geopandas\n",
        "!pip install git+git://github.com/geopandas/geopandas.git\n",
        "# Install descartes - Geopandas requirment\n",
        "!pip install descartes \n",
        "# Install Folium for Geographic data visualization\n",
        "!pip install folium\n",
        "# Install plotlyExpress\n",
        "!pip install plotly_express\""
      ],
      "execution_count": null,
      "outputs": []
    },
    {
      "cell_type": "code",
      "metadata": {
        "id": "Q1DSJekd-tgI",
        "colab_type": "code",
        "colab": {}
      },
      "source": [
        "import pandas as pd\n",
        "import numpy as np\n",
        "import geopandas as gpd\n",
        "from shapely.geometry import Point\n",
        "import matplotlib\n",
        "import matplotlib.pyplot as plt \n",
        "import folium\n",
        "import rtree"
      ],
      "execution_count": null,
      "outputs": []
    },
    {
      "cell_type": "code",
      "metadata": {
        "id": "wLEugYarO5hB",
        "colab_type": "code",
        "colab": {}
      },
      "source": [
        "def lstFiles(rootPath, ext):\n",
        "  '''\n",
        "  retrieve file path + names based on extension\n",
        "  '''\n",
        "  file_list = []\n",
        "  root = rootPath\n",
        "  for path, subdirs, files in os.walk(root):\n",
        "      for names in files: \n",
        "          if names.endswith(ext):\n",
        "              file_list.append(os.path.join(path,names))\n",
        "  return(file_list)\n",
        "\n",
        "def createFolder(rootPath, folderName): \n",
        "  '''\n",
        "  Create new folder in root path \n",
        "  '''\n",
        "  folderPath = os.path.join(rootPath, folderName) \n",
        "  if not os.path.exists(folderPath):\n",
        "      os.makedirs(folderPath)\n",
        "  return folderPath "
      ],
      "execution_count": 4,
      "outputs": []
    },
    {
      "cell_type": "markdown",
      "metadata": {
        "id": "qD5Zss9xV4ae",
        "colab_type": "text"
      },
      "source": [
        "## Interagency Perimeters"
      ]
    },
    {
      "cell_type": "markdown",
      "metadata": {
        "id": "8MT7OtIc2lHP",
        "colab_type": "text"
      },
      "source": [
        "### Data Acquisition \n",
        "\n",
        "NearTime Perimeters (Current 7days): \n",
        "\n",
        "API: https://services3.arcgis.com/T4QMspbfLg3qTGWY/arcgis/rest/services/Public_Wildfire_Perimeters_View/FeatureServer/0/query?outFields=*&where=1%3D1\n",
        "\n",
        "Archived Wildfire Perimeters 2019-2020:\n",
        "\n",
        "API: https://services3.arcgis.com/T4QMspbfLg3qTGWY/arcgis/rest/services/Archived_Wildfire_Perimeters2/FeatureServer/0/query?outFields=*&where=1%3D1\n",
        "\n",
        "Historic Perimeters (2000-2018): \n",
        "API: \n",
        "https://services3.arcgis.com/T4QMspbfLg3qTGWY/arcgis/rest/services/Historic_Geomac_Perimeters_Combined_2000_2018/FeatureServer/0/query?outFields=*&where=1%3D1\n"
      ]
    },
    {
      "cell_type": "markdown",
      "metadata": {
        "id": "P5YgtkY6baVG",
        "colab_type": "text"
      },
      "source": [
        "### Pre-processing "
      ]
    },
    {
      "cell_type": "code",
      "metadata": {
        "id": "S88HSE5DPAlA",
        "colab_type": "code",
        "colab": {
          "base_uri": "https://localhost:8080/",
          "height": 85
        },
        "outputId": "410ac33f-f40a-4480-d923-9ad6f5c460c8"
      },
      "source": [
        "# access perimeter data in Drive\n",
        "perimeter_path = 'Data/Interagency_FirePerimeters/'\n",
        "\n",
        "fire_per = lstFiles(perimeter_path, '.shp')\n",
        "fire_per"
      ],
      "execution_count": null,
      "outputs": [
        {
          "output_type": "execute_result",
          "data": {
            "text/plain": [
              "['Data/Interagency_FirePerimeters/2000_2018/US_HIST_FIRE_PERIMTRS_2000_2018_DD83.shp',\n",
              " 'Data/Interagency_FirePerimeters/NIFC_2019/Public_NIFS_Archive_Perimeters.shp',\n",
              " 'Data/Interagency_FirePerimeters/NIFC_2020/Public_NIFS_Perimeters.shp',\n",
              " 'Data/Interagency_FirePerimeters/GeoMac_2019/US_HIST_FIRE_PERIM_2019_dd83.shp']"
            ]
          },
          "metadata": {
            "tags": []
          },
          "execution_count": 7
        }
      ]
    },
    {
      "cell_type": "code",
      "metadata": {
        "id": "6OtBgA0QPEqx",
        "colab_type": "code",
        "colab": {}
      },
      "source": [
        "df1 = gpd.read_file(fire_per[0])\n",
        "df2 = gpd.read_file(fire_per[1])\n",
        "df3 = gpd.read_file(fire_per[2])\n",
        "df4 = gpd.read_file(fire_per[3])    "
      ],
      "execution_count": null,
      "outputs": []
    },
    {
      "cell_type": "code",
      "metadata": {
        "id": "x46UfR0NvkXc",
        "colab_type": "code",
        "colab": {}
      },
      "source": [
        "column_names = ['IncidentNa', 'MapMethod', 'GISAcres', 'CreateDate', 'ComplexNam', 'geometry']\n",
        "yr_range = range(2000, 2021)\n",
        "mnth_range = range(3, 6)\n",
        "\n",
        "def renameColumns(df, yr_range, mnth_range):\n",
        "  '''\n",
        "  make sure all columns name match \n",
        "  filter by column name, create datetime columns, filter by year range (2000 to 2020)\n",
        "  '''\n",
        "  df = df.rename(columns={'incidentna': 'IncidentNa', \n",
        "                          'mapmethod': 'MapMethod', \n",
        "                          'gisacres': 'GISAcres', \n",
        "                          'perimeterd': 'CreateDate', \n",
        "                          'complexnam': 'ComplexNam'})\n",
        "  # filter by column\n",
        "  df = df[column_names]\n",
        "  # create column for year, month, day \n",
        "  df['CreateDate']= pd.to_datetime(df['CreateDate'], format='%Y-%m-%d')\n",
        "  df['Year'] = pd.DatetimeIndex(df['CreateDate']).year\n",
        "  df['Month'] = pd.DatetimeIndex(df['CreateDate']).month\n",
        "  df['Day'] = pd.DatetimeIndex(df['CreateDate']).day\n",
        "  # filter by year\n",
        "  df = df[df.Year.isin(yr_range)]\n",
        "  df = df[df.Month.isin(mnth_range)]\n",
        "  return df"
      ],
      "execution_count": null,
      "outputs": []
    },
    {
      "cell_type": "code",
      "metadata": {
        "id": "sx0vSj4NtJ1h",
        "colab_type": "code",
        "colab": {}
      },
      "source": [
        "df1 = renameColumns(df1, yr_range, mnth_range)\n",
        "df2 = renameColumns(df2, yr_range, mnth_range)\n",
        "df3 = renameColumns(df3, yr_range, mnth_range)\n",
        "df4 = renameColumns(df4, yr_range, mnth_range)\n",
        "\n",
        "df_frames = [df1, df2, df3, df4]\n",
        "complete_df = pd.concat(df_frames)"
      ],
      "execution_count": null,
      "outputs": []
    },
    {
      "cell_type": "code",
      "metadata": {
        "id": "QlGYrA1MjP2Z",
        "colab_type": "code",
        "colab": {}
      },
      "source": [
        "# filter out complex fires, only consider individual fires or else they will be double counted\n",
        "complete_df = complete_df[(~complete_df.IncidentNa.str.contains('Complex', case=False, na=False, regex=True)\n",
        "                          | (complete_df['ComplexNam'].isna() == True))]\n",
        "complete_df = complete_df[(complete_df.geometry.type == 'Polygon') | (complete_df.geometry.type == 'MultiPolygon')]\n",
        "complete_df = complete_df[complete_df['geometry'].isna() == False]"
      ],
      "execution_count": null,
      "outputs": []
    },
    {
      "cell_type": "code",
      "metadata": {
        "id": "H4QGOJUsODWk",
        "colab_type": "code",
        "colab": {}
      },
      "source": [
        "complete_df.groupby('Year')['IncidentNa'].nunique()"
      ],
      "execution_count": null,
      "outputs": []
    },
    {
      "cell_type": "code",
      "metadata": {
        "id": "Y3ZitI2dqiFG",
        "colab_type": "code",
        "colab": {}
      },
      "source": [
        "# add state column\n",
        "# read state shp\n",
        "states_list = ['Washington', 'Oregon', 'California', 'Nevada', 'Idaho', 'Utah', 'Arizona', \n",
        "                    'Montana', 'Wyoming', 'Colorado', 'New Mexico']\n",
        "\n",
        "def getWestBounds(states_list, state_path, layer):\n",
        "  '''\n",
        "  create boundary based on states list \n",
        "  spatial join with layer \n",
        "  '''\n",
        "  states = gpd.read_file(state_path)\n",
        "  western_states = states[(states.STATE_NAME.isin(states_list))]\n",
        "  western_states = western_states.to_crs(layer.crs)\n",
        "  western_states = western_states[['STATE_NAME', 'STATE_ABBR', 'geometry']]  \n",
        "  # Spatial join state and fire perimeter layers\n",
        "  if western_states.crs == layer.crs:\n",
        "    west_fires = gpd.sjoin(layer, western_states, op=\"within\")\n",
        "    west_fires = west_fires.drop(columns='index_right')\n",
        "  else: \n",
        "    print('Make sure crs match!')\n",
        "  return west_fires"
      ],
      "execution_count": null,
      "outputs": []
    },
    {
      "cell_type": "code",
      "metadata": {
        "id": "zmCX52RBoCDY",
        "colab_type": "code",
        "colab": {}
      },
      "source": [
        "import rtree"
      ],
      "execution_count": null,
      "outputs": []
    },
    {
      "cell_type": "code",
      "metadata": {
        "id": "BHFojvJyuhwO",
        "colab_type": "code",
        "colab": {}
      },
      "source": [
        "# access perimeter data in Drive\n",
        "state_path = 'Data/US_states/'\n",
        "west_fires = getWestBounds(states_list, state_path, complete_df)"
      ],
      "execution_count": null,
      "outputs": []
    },
    {
      "cell_type": "code",
      "metadata": {
        "id": "XFBZXFxtF9x5",
        "colab_type": "code",
        "colab": {
          "base_uri": "https://localhost:8080/",
          "height": 34
        },
        "outputId": "8ae41953-443e-4297-9a27-0ded8b1ef47b"
      },
      "source": [
        "len(west_fires)"
      ],
      "execution_count": null,
      "outputs": [
        {
          "output_type": "execute_result",
          "data": {
            "text/plain": [
              "3918"
            ]
          },
          "metadata": {
            "tags": []
          },
          "execution_count": 15
        }
      ]
    },
    {
      "cell_type": "code",
      "metadata": {
        "id": "aGew3J82xxo2",
        "colab_type": "code",
        "colab": {}
      },
      "source": [
        "# standardize string, capitalize names \n",
        "west_fires['IncidentNa'] = west_fires.IncidentNa.str.capitalize()\n",
        "# drop na values for GIS acres\n",
        "west_fires = west_fires.dropna(subset=['GISAcres'])\n",
        "\n",
        "campFires = west_fires[west_fires['IncidentNa'] == 'Camp']"
      ],
      "execution_count": null,
      "outputs": []
    },
    {
      "cell_type": "code",
      "metadata": {
        "id": "mKBNl7Z0EDGs",
        "colab_type": "code",
        "colab": {
          "base_uri": "https://localhost:8080/",
          "height": 49
        },
        "outputId": "92322298-c26e-42e1-df60-88153f40c9c0"
      },
      "source": [
        "campFires[5:7]"
      ],
      "execution_count": null,
      "outputs": [
        {
          "output_type": "execute_result",
          "data": {
            "text/html": [
              "<div>\n",
              "<style scoped>\n",
              "    .dataframe tbody tr th:only-of-type {\n",
              "        vertical-align: middle;\n",
              "    }\n",
              "\n",
              "    .dataframe tbody tr th {\n",
              "        vertical-align: top;\n",
              "    }\n",
              "\n",
              "    .dataframe thead th {\n",
              "        text-align: right;\n",
              "    }\n",
              "</style>\n",
              "<table border=\"1\" class=\"dataframe\">\n",
              "  <thead>\n",
              "    <tr style=\"text-align: right;\">\n",
              "      <th></th>\n",
              "      <th>IncidentNa</th>\n",
              "      <th>MapMethod</th>\n",
              "      <th>GISAcres</th>\n",
              "      <th>CreateDate</th>\n",
              "      <th>ComplexNam</th>\n",
              "      <th>geometry</th>\n",
              "      <th>Year</th>\n",
              "      <th>Month</th>\n",
              "      <th>Day</th>\n",
              "      <th>STATE_NAME</th>\n",
              "      <th>STATE_ABBR</th>\n",
              "    </tr>\n",
              "  </thead>\n",
              "  <tbody>\n",
              "  </tbody>\n",
              "</table>\n",
              "</div>"
            ],
            "text/plain": [
              "Empty GeoDataFrame\n",
              "Columns: [IncidentNa, MapMethod, GISAcres, CreateDate, ComplexNam, geometry, Year, Month, Day, STATE_NAME, STATE_ABBR]\n",
              "Index: []"
            ]
          },
          "metadata": {
            "tags": []
          },
          "execution_count": 17
        }
      ]
    },
    {
      "cell_type": "code",
      "metadata": {
        "id": "fAxLIYmSARb5",
        "colab_type": "code",
        "colab": {
          "base_uri": "https://localhost:8080/",
          "height": 414
        },
        "outputId": "712bbce7-3751-47f7-a155-3924803a2e15"
      },
      "source": [
        "# example of dupe entry for Camp fire on 2004-07-22 in CA due to diff map methods\n",
        "campFires[5:6].plot()\n",
        "campFires[6:7].plot()"
      ],
      "execution_count": null,
      "outputs": [
        {
          "output_type": "execute_result",
          "data": {
            "text/plain": [
              "<matplotlib.axes._subplots.AxesSubplot at 0x7f3e5d088518>"
            ]
          },
          "metadata": {
            "tags": []
          },
          "execution_count": 90
        },
        {
          "output_type": "display_data",
          "data": {
            "image/png": "[encoded data removed]",
            "text/plain": [
              "<Figure size 432x288 with 1 Axes>"
            ]
          },
          "metadata": {
            "tags": [],
            "needs_background": "light"
          }
        },
        {
          "output_type": "display_data",
          "data": {
            "image/png": "[encoded data removed]",
            "text/plain": [
              "<Figure size 432x288 with 1 Axes>"
            ]
          },
          "metadata": {
            "tags": [],
            "needs_background": "light"
          }
        }
      ]
    },
    {
      "cell_type": "code",
      "metadata": {
        "id": "lYudVXpuDzAF",
        "colab_type": "code",
        "colab": {}
      },
      "source": [
        "# grab only one fire per incident based on max acres; i.e. filter by PolygonDat, IncidentNa, STATE_NAME \n",
        "# Get rid of redundancies \n",
        "# !! UPDATE TO CREATEDATE WITHIN a WEEK !! \n",
        "west_fires_filt = west_fires.groupby(['IncidentNa','CreateDate','STATE_NAME']).apply(lambda x: x.loc[x.GISAcres.idxmax()])\n",
        "west_fires_filt['Year'] = west_fires_filt['Year'].astype(str).str[:4]"
      ],
      "execution_count": null,
      "outputs": []
    },
    {
      "cell_type": "code",
      "metadata": {
        "id": "MT0GNO7DBrhA",
        "colab_type": "code",
        "colab": {
          "base_uri": "https://localhost:8080/",
          "height": 408
        },
        "outputId": "663d97c6-a378-48d9-c804-d029a36d00a1"
      },
      "source": [
        "west_fires_filt.groupby('Year')['IncidentNa'].nunique()"
      ],
      "execution_count": null,
      "outputs": [
        {
          "output_type": "execute_result",
          "data": {
            "text/plain": [
              "Year\n",
              "2000     93\n",
              "2001    144\n",
              "2002    153\n",
              "2003    105\n",
              "2004    140\n",
              "2005    162\n",
              "2006    241\n",
              "2007    225\n",
              "2008    289\n",
              "2009    164\n",
              "2010    144\n",
              "2011    172\n",
              "2012    246\n",
              "2013    206\n",
              "2014    105\n",
              "2015    111\n",
              "2016    175\n",
              "2017    271\n",
              "2018    268\n",
              "2019     77\n",
              "2020    167\n",
              "Name: IncidentNa, dtype: int64"
            ]
          },
          "metadata": {
            "tags": []
          },
          "execution_count": 19
        }
      ]
    },
    {
      "cell_type": "markdown",
      "metadata": {
        "id": "022SyByZ3MX2",
        "colab_type": "text"
      },
      "source": [
        "### Visualize Fire Area & Count"
      ]
    },
    {
      "cell_type": "code",
      "metadata": {
        "id": "Jst4yxunIRpK",
        "colab_type": "code",
        "colab": {
          "base_uri": "https://localhost:8080/",
          "height": 419
        },
        "outputId": "fef5f59a-18fa-4815-f87e-a3289617321c"
      },
      "source": [
        "fire_by_yr = west_fires_filt.groupby(['STATE_ABBR','Year']).agg({'IncidentNa': 'count', 'GISAcres': ['sum', 'mean', 'std']}).reset_index()\n",
        "fire_by_yr.columns = ['STATE_ABBR', 'Year', 'Count', 'Total (Acres)', 'Mean (Acres)', 'Stdv (Acres']\n",
        "fire_by_yr['Year'] = fire_by_yr['Year'].astype('str')\n",
        "fire_by_yr"
      ],
      "execution_count": null,
      "outputs": [
        {
          "output_type": "execute_result",
          "data": {
            "text/html": [
              "<div>\n",
              "<style scoped>\n",
              "    .dataframe tbody tr th:only-of-type {\n",
              "        vertical-align: middle;\n",
              "    }\n",
              "\n",
              "    .dataframe tbody tr th {\n",
              "        vertical-align: top;\n",
              "    }\n",
              "\n",
              "    .dataframe thead th {\n",
              "        text-align: right;\n",
              "    }\n",
              "</style>\n",
              "<table border=\"1\" class=\"dataframe\">\n",
              "  <thead>\n",
              "    <tr style=\"text-align: right;\">\n",
              "      <th></th>\n",
              "      <th>STATE_ABBR</th>\n",
              "      <th>Year</th>\n",
              "      <th>Count</th>\n",
              "      <th>Total (Acres)</th>\n",
              "      <th>Mean (Acres)</th>\n",
              "      <th>Stdv (Acres</th>\n",
              "    </tr>\n",
              "  </thead>\n",
              "  <tbody>\n",
              "    <tr>\n",
              "      <th>0</th>\n",
              "      <td>AZ</td>\n",
              "      <td>2000</td>\n",
              "      <td>3</td>\n",
              "      <td>401.283460</td>\n",
              "      <td>133.761153</td>\n",
              "      <td>69.668893</td>\n",
              "    </tr>\n",
              "    <tr>\n",
              "      <th>1</th>\n",
              "      <td>AZ</td>\n",
              "      <td>2001</td>\n",
              "      <td>5</td>\n",
              "      <td>3368.480915</td>\n",
              "      <td>673.696183</td>\n",
              "      <td>582.706147</td>\n",
              "    </tr>\n",
              "    <tr>\n",
              "      <th>2</th>\n",
              "      <td>AZ</td>\n",
              "      <td>2002</td>\n",
              "      <td>10</td>\n",
              "      <td>82597.972872</td>\n",
              "      <td>8259.797287</td>\n",
              "      <td>13997.176012</td>\n",
              "    </tr>\n",
              "    <tr>\n",
              "      <th>3</th>\n",
              "      <td>AZ</td>\n",
              "      <td>2003</td>\n",
              "      <td>9</td>\n",
              "      <td>44169.282638</td>\n",
              "      <td>4907.698071</td>\n",
              "      <td>4477.181244</td>\n",
              "    </tr>\n",
              "    <tr>\n",
              "      <th>4</th>\n",
              "      <td>AZ</td>\n",
              "      <td>2004</td>\n",
              "      <td>9</td>\n",
              "      <td>45419.362629</td>\n",
              "      <td>5046.595848</td>\n",
              "      <td>6992.404276</td>\n",
              "    </tr>\n",
              "    <tr>\n",
              "      <th>...</th>\n",
              "      <td>...</td>\n",
              "      <td>...</td>\n",
              "      <td>...</td>\n",
              "      <td>...</td>\n",
              "      <td>...</td>\n",
              "      <td>...</td>\n",
              "    </tr>\n",
              "    <tr>\n",
              "      <th>208</th>\n",
              "      <td>WY</td>\n",
              "      <td>2016</td>\n",
              "      <td>24</td>\n",
              "      <td>18246.729181</td>\n",
              "      <td>760.280383</td>\n",
              "      <td>2523.460384</td>\n",
              "    </tr>\n",
              "    <tr>\n",
              "      <th>209</th>\n",
              "      <td>WY</td>\n",
              "      <td>2017</td>\n",
              "      <td>8</td>\n",
              "      <td>1270.832039</td>\n",
              "      <td>158.854005</td>\n",
              "      <td>394.372046</td>\n",
              "    </tr>\n",
              "    <tr>\n",
              "      <th>210</th>\n",
              "      <td>WY</td>\n",
              "      <td>2018</td>\n",
              "      <td>25</td>\n",
              "      <td>2585.155261</td>\n",
              "      <td>103.406210</td>\n",
              "      <td>395.907691</td>\n",
              "    </tr>\n",
              "    <tr>\n",
              "      <th>211</th>\n",
              "      <td>WY</td>\n",
              "      <td>2019</td>\n",
              "      <td>1</td>\n",
              "      <td>535.807930</td>\n",
              "      <td>535.807930</td>\n",
              "      <td>NaN</td>\n",
              "    </tr>\n",
              "    <tr>\n",
              "      <th>212</th>\n",
              "      <td>WY</td>\n",
              "      <td>2020</td>\n",
              "      <td>2</td>\n",
              "      <td>5.341521</td>\n",
              "      <td>2.670760</td>\n",
              "      <td>3.274396</td>\n",
              "    </tr>\n",
              "  </tbody>\n",
              "</table>\n",
              "<p>213 rows × 6 columns</p>\n",
              "</div>"
            ],
            "text/plain": [
              "    STATE_ABBR  Year  Count  Total (Acres)  Mean (Acres)   Stdv (Acres\n",
              "0           AZ  2000      3     401.283460    133.761153     69.668893\n",
              "1           AZ  2001      5    3368.480915    673.696183    582.706147\n",
              "2           AZ  2002     10   82597.972872   8259.797287  13997.176012\n",
              "3           AZ  2003      9   44169.282638   4907.698071   4477.181244\n",
              "4           AZ  2004      9   45419.362629   5046.595848   6992.404276\n",
              "..         ...   ...    ...            ...           ...           ...\n",
              "208         WY  2016     24   18246.729181    760.280383   2523.460384\n",
              "209         WY  2017      8    1270.832039    158.854005    394.372046\n",
              "210         WY  2018     25    2585.155261    103.406210    395.907691\n",
              "211         WY  2019      1     535.807930    535.807930           NaN\n",
              "212         WY  2020      2       5.341521      2.670760      3.274396\n",
              "\n",
              "[213 rows x 6 columns]"
            ]
          },
          "metadata": {
            "tags": []
          },
          "execution_count": 20
        }
      ]
    },
    {
      "cell_type": "code",
      "metadata": {
        "id": "76L_3zcz0X5B",
        "colab_type": "code",
        "colab": {
          "base_uri": "https://localhost:8080/",
          "height": 441
        },
        "outputId": "e7a9f993-acf2-4cbc-809e-ed62b7864dea"
      },
      "source": [
        "sample = fire_by_yr[['STATE_ABBR', 'Year', 'Count']]\n",
        "table = pd.pivot_table(sample, values='Count', index=['STATE_ABBR'],\n",
        "                    columns=['Year'])\n",
        "table"
      ],
      "execution_count": null,
      "outputs": [
        {
          "output_type": "execute_result",
          "data": {
            "text/html": [
              "<div>\n",
              "<style scoped>\n",
              "    .dataframe tbody tr th:only-of-type {\n",
              "        vertical-align: middle;\n",
              "    }\n",
              "\n",
              "    .dataframe tbody tr th {\n",
              "        vertical-align: top;\n",
              "    }\n",
              "\n",
              "    .dataframe thead th {\n",
              "        text-align: right;\n",
              "    }\n",
              "</style>\n",
              "<table border=\"1\" class=\"dataframe\">\n",
              "  <thead>\n",
              "    <tr style=\"text-align: right;\">\n",
              "      <th>Year</th>\n",
              "      <th>2000</th>\n",
              "      <th>2001</th>\n",
              "      <th>2002</th>\n",
              "      <th>2003</th>\n",
              "      <th>2004</th>\n",
              "      <th>2005</th>\n",
              "      <th>2006</th>\n",
              "      <th>2007</th>\n",
              "      <th>2008</th>\n",
              "      <th>2009</th>\n",
              "      <th>2010</th>\n",
              "      <th>2011</th>\n",
              "      <th>2012</th>\n",
              "      <th>2013</th>\n",
              "      <th>2014</th>\n",
              "      <th>2015</th>\n",
              "      <th>2016</th>\n",
              "      <th>2017</th>\n",
              "      <th>2018</th>\n",
              "      <th>2019</th>\n",
              "      <th>2020</th>\n",
              "    </tr>\n",
              "    <tr>\n",
              "      <th>STATE_ABBR</th>\n",
              "      <th></th>\n",
              "      <th></th>\n",
              "      <th></th>\n",
              "      <th></th>\n",
              "      <th></th>\n",
              "      <th></th>\n",
              "      <th></th>\n",
              "      <th></th>\n",
              "      <th></th>\n",
              "      <th></th>\n",
              "      <th></th>\n",
              "      <th></th>\n",
              "      <th></th>\n",
              "      <th></th>\n",
              "      <th></th>\n",
              "      <th></th>\n",
              "      <th></th>\n",
              "      <th></th>\n",
              "      <th></th>\n",
              "      <th></th>\n",
              "      <th></th>\n",
              "    </tr>\n",
              "  </thead>\n",
              "  <tbody>\n",
              "    <tr>\n",
              "      <th>AZ</th>\n",
              "      <td>3.0</td>\n",
              "      <td>5.0</td>\n",
              "      <td>10.0</td>\n",
              "      <td>9.0</td>\n",
              "      <td>9.0</td>\n",
              "      <td>28.0</td>\n",
              "      <td>30.0</td>\n",
              "      <td>11.0</td>\n",
              "      <td>23.0</td>\n",
              "      <td>24.0</td>\n",
              "      <td>13.0</td>\n",
              "      <td>19.0</td>\n",
              "      <td>36.0</td>\n",
              "      <td>25.0</td>\n",
              "      <td>32.0</td>\n",
              "      <td>17.0</td>\n",
              "      <td>51.0</td>\n",
              "      <td>58.0</td>\n",
              "      <td>30.0</td>\n",
              "      <td>67.0</td>\n",
              "      <td>32.0</td>\n",
              "    </tr>\n",
              "    <tr>\n",
              "      <th>CA</th>\n",
              "      <td>41.0</td>\n",
              "      <td>67.0</td>\n",
              "      <td>76.0</td>\n",
              "      <td>48.0</td>\n",
              "      <td>97.0</td>\n",
              "      <td>75.0</td>\n",
              "      <td>49.0</td>\n",
              "      <td>96.0</td>\n",
              "      <td>177.0</td>\n",
              "      <td>79.0</td>\n",
              "      <td>52.0</td>\n",
              "      <td>36.0</td>\n",
              "      <td>32.0</td>\n",
              "      <td>100.0</td>\n",
              "      <td>23.0</td>\n",
              "      <td>11.0</td>\n",
              "      <td>11.0</td>\n",
              "      <td>33.0</td>\n",
              "      <td>20.0</td>\n",
              "      <td>26.0</td>\n",
              "      <td>8.0</td>\n",
              "    </tr>\n",
              "    <tr>\n",
              "      <th>CO</th>\n",
              "      <td>3.0</td>\n",
              "      <td>3.0</td>\n",
              "      <td>26.0</td>\n",
              "      <td>NaN</td>\n",
              "      <td>8.0</td>\n",
              "      <td>2.0</td>\n",
              "      <td>19.0</td>\n",
              "      <td>14.0</td>\n",
              "      <td>8.0</td>\n",
              "      <td>4.0</td>\n",
              "      <td>10.0</td>\n",
              "      <td>22.0</td>\n",
              "      <td>19.0</td>\n",
              "      <td>18.0</td>\n",
              "      <td>7.0</td>\n",
              "      <td>13.0</td>\n",
              "      <td>14.0</td>\n",
              "      <td>21.0</td>\n",
              "      <td>26.0</td>\n",
              "      <td>5.0</td>\n",
              "      <td>4.0</td>\n",
              "    </tr>\n",
              "    <tr>\n",
              "      <th>ID</th>\n",
              "      <td>20.0</td>\n",
              "      <td>30.0</td>\n",
              "      <td>6.0</td>\n",
              "      <td>16.0</td>\n",
              "      <td>5.0</td>\n",
              "      <td>18.0</td>\n",
              "      <td>32.0</td>\n",
              "      <td>20.0</td>\n",
              "      <td>13.0</td>\n",
              "      <td>3.0</td>\n",
              "      <td>13.0</td>\n",
              "      <td>4.0</td>\n",
              "      <td>42.0</td>\n",
              "      <td>33.0</td>\n",
              "      <td>17.0</td>\n",
              "      <td>21.0</td>\n",
              "      <td>16.0</td>\n",
              "      <td>47.0</td>\n",
              "      <td>44.0</td>\n",
              "      <td>15.0</td>\n",
              "      <td>31.0</td>\n",
              "    </tr>\n",
              "    <tr>\n",
              "      <th>MT</th>\n",
              "      <td>NaN</td>\n",
              "      <td>2.0</td>\n",
              "      <td>NaN</td>\n",
              "      <td>NaN</td>\n",
              "      <td>NaN</td>\n",
              "      <td>NaN</td>\n",
              "      <td>1.0</td>\n",
              "      <td>4.0</td>\n",
              "      <td>NaN</td>\n",
              "      <td>NaN</td>\n",
              "      <td>3.0</td>\n",
              "      <td>NaN</td>\n",
              "      <td>23.0</td>\n",
              "      <td>1.0</td>\n",
              "      <td>1.0</td>\n",
              "      <td>6.0</td>\n",
              "      <td>4.0</td>\n",
              "      <td>34.0</td>\n",
              "      <td>3.0</td>\n",
              "      <td>NaN</td>\n",
              "      <td>9.0</td>\n",
              "    </tr>\n",
              "    <tr>\n",
              "      <th>NM</th>\n",
              "      <td>4.0</td>\n",
              "      <td>9.0</td>\n",
              "      <td>13.0</td>\n",
              "      <td>11.0</td>\n",
              "      <td>5.0</td>\n",
              "      <td>11.0</td>\n",
              "      <td>27.0</td>\n",
              "      <td>10.0</td>\n",
              "      <td>42.0</td>\n",
              "      <td>35.0</td>\n",
              "      <td>40.0</td>\n",
              "      <td>70.0</td>\n",
              "      <td>12.0</td>\n",
              "      <td>4.0</td>\n",
              "      <td>5.0</td>\n",
              "      <td>10.0</td>\n",
              "      <td>25.0</td>\n",
              "      <td>18.0</td>\n",
              "      <td>20.0</td>\n",
              "      <td>33.0</td>\n",
              "      <td>1.0</td>\n",
              "    </tr>\n",
              "    <tr>\n",
              "      <th>NV</th>\n",
              "      <td>7.0</td>\n",
              "      <td>17.0</td>\n",
              "      <td>2.0</td>\n",
              "      <td>9.0</td>\n",
              "      <td>10.0</td>\n",
              "      <td>8.0</td>\n",
              "      <td>55.0</td>\n",
              "      <td>31.0</td>\n",
              "      <td>17.0</td>\n",
              "      <td>6.0</td>\n",
              "      <td>3.0</td>\n",
              "      <td>6.0</td>\n",
              "      <td>19.0</td>\n",
              "      <td>4.0</td>\n",
              "      <td>2.0</td>\n",
              "      <td>10.0</td>\n",
              "      <td>7.0</td>\n",
              "      <td>30.0</td>\n",
              "      <td>54.0</td>\n",
              "      <td>1.0</td>\n",
              "      <td>68.0</td>\n",
              "    </tr>\n",
              "    <tr>\n",
              "      <th>OR</th>\n",
              "      <td>13.0</td>\n",
              "      <td>10.0</td>\n",
              "      <td>9.0</td>\n",
              "      <td>7.0</td>\n",
              "      <td>2.0</td>\n",
              "      <td>2.0</td>\n",
              "      <td>6.0</td>\n",
              "      <td>8.0</td>\n",
              "      <td>4.0</td>\n",
              "      <td>3.0</td>\n",
              "      <td>1.0</td>\n",
              "      <td>3.0</td>\n",
              "      <td>7.0</td>\n",
              "      <td>11.0</td>\n",
              "      <td>7.0</td>\n",
              "      <td>13.0</td>\n",
              "      <td>8.0</td>\n",
              "      <td>11.0</td>\n",
              "      <td>15.0</td>\n",
              "      <td>7.0</td>\n",
              "      <td>2.0</td>\n",
              "    </tr>\n",
              "    <tr>\n",
              "      <th>UT</th>\n",
              "      <td>2.0</td>\n",
              "      <td>4.0</td>\n",
              "      <td>10.0</td>\n",
              "      <td>5.0</td>\n",
              "      <td>3.0</td>\n",
              "      <td>17.0</td>\n",
              "      <td>15.0</td>\n",
              "      <td>30.0</td>\n",
              "      <td>5.0</td>\n",
              "      <td>2.0</td>\n",
              "      <td>7.0</td>\n",
              "      <td>12.0</td>\n",
              "      <td>44.0</td>\n",
              "      <td>8.0</td>\n",
              "      <td>4.0</td>\n",
              "      <td>4.0</td>\n",
              "      <td>10.0</td>\n",
              "      <td>14.0</td>\n",
              "      <td>11.0</td>\n",
              "      <td>3.0</td>\n",
              "      <td>15.0</td>\n",
              "    </tr>\n",
              "    <tr>\n",
              "      <th>WA</th>\n",
              "      <td>NaN</td>\n",
              "      <td>NaN</td>\n",
              "      <td>NaN</td>\n",
              "      <td>1.0</td>\n",
              "      <td>NaN</td>\n",
              "      <td>1.0</td>\n",
              "      <td>1.0</td>\n",
              "      <td>1.0</td>\n",
              "      <td>5.0</td>\n",
              "      <td>3.0</td>\n",
              "      <td>NaN</td>\n",
              "      <td>NaN</td>\n",
              "      <td>2.0</td>\n",
              "      <td>3.0</td>\n",
              "      <td>7.0</td>\n",
              "      <td>4.0</td>\n",
              "      <td>8.0</td>\n",
              "      <td>2.0</td>\n",
              "      <td>24.0</td>\n",
              "      <td>3.0</td>\n",
              "      <td>NaN</td>\n",
              "    </tr>\n",
              "    <tr>\n",
              "      <th>WY</th>\n",
              "      <td>1.0</td>\n",
              "      <td>NaN</td>\n",
              "      <td>3.0</td>\n",
              "      <td>1.0</td>\n",
              "      <td>4.0</td>\n",
              "      <td>2.0</td>\n",
              "      <td>10.0</td>\n",
              "      <td>5.0</td>\n",
              "      <td>2.0</td>\n",
              "      <td>8.0</td>\n",
              "      <td>4.0</td>\n",
              "      <td>2.0</td>\n",
              "      <td>14.0</td>\n",
              "      <td>2.0</td>\n",
              "      <td>1.0</td>\n",
              "      <td>2.0</td>\n",
              "      <td>24.0</td>\n",
              "      <td>8.0</td>\n",
              "      <td>25.0</td>\n",
              "      <td>1.0</td>\n",
              "      <td>2.0</td>\n",
              "    </tr>\n",
              "  </tbody>\n",
              "</table>\n",
              "</div>"
            ],
            "text/plain": [
              "Year        2000  2001  2002  2003  2004  ...  2016  2017  2018  2019  2020\n",
              "STATE_ABBR                                ...                              \n",
              "AZ           3.0   5.0  10.0   9.0   9.0  ...  51.0  58.0  30.0  67.0  32.0\n",
              "CA          41.0  67.0  76.0  48.0  97.0  ...  11.0  33.0  20.0  26.0   8.0\n",
              "CO           3.0   3.0  26.0   NaN   8.0  ...  14.0  21.0  26.0   5.0   4.0\n",
              "ID          20.0  30.0   6.0  16.0   5.0  ...  16.0  47.0  44.0  15.0  31.0\n",
              "MT           NaN   2.0   NaN   NaN   NaN  ...   4.0  34.0   3.0   NaN   9.0\n",
              "NM           4.0   9.0  13.0  11.0   5.0  ...  25.0  18.0  20.0  33.0   1.0\n",
              "NV           7.0  17.0   2.0   9.0  10.0  ...   7.0  30.0  54.0   1.0  68.0\n",
              "OR          13.0  10.0   9.0   7.0   2.0  ...   8.0  11.0  15.0   7.0   2.0\n",
              "UT           2.0   4.0  10.0   5.0   3.0  ...  10.0  14.0  11.0   3.0  15.0\n",
              "WA           NaN   NaN   NaN   1.0   NaN  ...   8.0   2.0  24.0   3.0   NaN\n",
              "WY           1.0   NaN   3.0   1.0   4.0  ...  24.0   8.0  25.0   1.0   2.0\n",
              "\n",
              "[11 rows x 21 columns]"
            ]
          },
          "metadata": {
            "tags": []
          },
          "execution_count": 30
        }
      ]
    },
    {
      "cell_type": "code",
      "metadata": {
        "id": "hgd1ZdCx3tX6",
        "colab_type": "code",
        "colab": {
          "base_uri": "https://localhost:8080/",
          "height": 268
        },
        "outputId": "f87161a0-4fd7-4e2a-9ae0-2045bca2428d"
      },
      "source": [
        "import seaborn as sns\n",
        "sns.set(style='ticks')\n",
        "state_y = ['AZ', 'CA', 'CO', 'ID', 'MT', 'NM', 'NV', 'OR', 'UT', 'WA', 'WY']\n",
        "\n",
        "grid_kws = {\"height_ratios\": (1, 0.05), \"hspace\": 1.3}\n",
        "f, (ax, cbar_ax) = plt.subplots(2, gridspec_kw=grid_kws)\n",
        "ax = sns.heatmap(table, ax=ax, cmap= sns.cubehelix_palette(8, start=.5, rot=-.75),\n",
        "                 cbar_ax=cbar_ax, yticklabels = state_y, \n",
        "                 cbar_kws={\"orientation\": \"horizontal\"})\n",
        "\n",
        "plt.title('Count', color='black')\n",
        "plt.savefig('Figures/Interagency_Count_HeatMap_0306.png', dpi = 400)"
      ],
      "execution_count": null,
      "outputs": [
        {
          "output_type": "display_data",
          "data": {
            "image/png": "[encoded data removed]",
            "text/plain": [
              "<Figure size 432x288 with 2 Axes>"
            ]
          },
          "metadata": {
            "tags": []
          }
        }
      ]
    },
    {
      "cell_type": "code",
      "metadata": {
        "id": "--x5bK3wzwmv",
        "colab_type": "code",
        "colab": {
          "base_uri": "https://localhost:8080/",
          "height": 293
        },
        "outputId": "df466eb9-2cf0-49c8-cebf-1357ae537db9"
      },
      "source": [
        "table.set_index('STATE_ABBR').T.plot(kind='bar', stacked=True)\n",
        "plt.title('Interagency Count', color='black')\n",
        "plt.legend(loc='center left', bbox_to_anchor=(1.0, 0.5))\n",
        "plt.tight_layout()\n",
        "plt.savefig('Figures/Interagency_Count_stackedbar_0306.png', dpi = 400)"
      ],
      "execution_count": null,
      "outputs": [
        {
          "output_type": "display_data",
          "data": {
            "image/png": "[encoded data removed]",
            "text/plain": [
              "<Figure size 432x288 with 1 Axes>"
            ]
          },
          "metadata": {
            "tags": []
          }
        }
      ]
    },
    {
      "cell_type": "code",
      "metadata": {
        "id": "u5_ko1n5JgYH",
        "colab_type": "code",
        "colab": {
          "base_uri": "https://localhost:8080/",
          "height": 437
        },
        "outputId": "0016abfe-4813-495e-ae51-eec8e0bea12d"
      },
      "source": [
        "import seaborn as sns\n",
        "sns.set(style='ticks')\n",
        "#Create combo chart\n",
        "fig, ax1 = plt.subplots(figsize=(10,6))\n",
        "color = 'tab:green'\n",
        "#bar plot creation\n",
        "ax1.set_title('# of Fires & Area Burned in Western US', fontsize=16)\n",
        "ax1.set_xlabel('Month', fontsize=16)\n",
        "ax1.set_ylabel('Avg Temp', fontsize=16)\n",
        "ax1 = sns.barplot(x='Year', y='Count', data = fire_by_yr, palette='summer')\n",
        "ax1.tick_params(axis='y')\n",
        "#specify we want to share the same x-axis\n",
        "ax2 = ax1.twinx()\n",
        "color = 'tab:red'\n",
        "#line plot creation\n",
        "ax2.set_ylabel('Avg Percipitation %', fontsize=16)\n",
        "ax2 = sns.lineplot(x='Year', y='Total (Acres)', data = fire_by_yr, sort=False, color=color)\n",
        "ax2.tick_params(axis='y', color=color)\n",
        "plt.tight_layout()\n",
        "plt.savefig('Figures/Interagency_FireCount_AcresBurned_0306.png', dpi = 400)"
      ],
      "execution_count": null,
      "outputs": [
        {
          "output_type": "display_data",
          "data": {
            "image/png": "[encoded data removed]",
            "text/plain": [
              "<Figure size 720x432 with 2 Axes>"
            ]
          },
          "metadata": {
            "tags": []
          }
        }
      ]
    },
    {
      "cell_type": "markdown",
      "metadata": {
        "id": "fcy7EqX6-gEE",
        "colab_type": "text"
      },
      "source": [
        "## Active Fire Products\n"
      ]
    },
    {
      "cell_type": "markdown",
      "metadata": {
        "id": "Hoz0MDFV2bp4",
        "colab_type": "text"
      },
      "source": [
        "### Data Acquisition \n",
        "\n",
        "Archive Download: https://firms.modaps.eosdis.nasa.gov/download/\n",
        "\n",
        "\n",
        "Near-RealTime (7 days) \n",
        "\n",
        "MODIS (C6): https://firms.modaps.eosdis.nasa.gov/data/active_fire/c6/shapes/zips/MODIS_C6_USA_contiguous_and_Hawaii_7d.zip\n",
        "\n",
        "VIIRS (S-NPP): \n",
        "https://firms.modaps.eosdis.nasa.gov/data/active_fire/suomi-npp-viirs-c2/shapes/zips/SUOMI_VIIRS_C2_USA_contiguous_and_Hawaii_7d.zip\n",
        "\n",
        "VIIRS (NOAA-20): Note: launched Nov 2017 \n",
        "https://firms.modaps.eosdis.nasa.gov/data/active_fire/noaa-20-viirs-c2/shapes/zips/J1_VIIRS_C2_USA_contiguous_and_Hawaii_7d.zip"
      ]
    },
    {
      "cell_type": "markdown",
      "metadata": {
        "id": "x9Rcz6l6-jzF",
        "colab_type": "text"
      },
      "source": [
        "### Pre-Processing"
      ]
    },
    {
      "cell_type": "code",
      "metadata": {
        "id": "ZB-p4Rwj-lGu",
        "colab_type": "code",
        "colab": {}
      },
      "source": [
        "# access perimeter data in Drive\n",
        "AF_path = 'Data/Active_Fire_Products/'\n",
        "\n",
        "af_pts = lstFiles(AF_path, '.shp')"
      ],
      "execution_count": null,
      "outputs": []
    },
    {
      "cell_type": "code",
      "metadata": {
        "id": "m95L094geuvS",
        "colab_type": "code",
        "colab": {}
      },
      "source": [
        "# read af files \n",
        "df1 = gpd.read_file(af_pts[0])\n",
        "df2 = gpd.read_file(af_pts[1])\n",
        "df3 = gpd.read_file(af_pts[2])\n",
        "df4 = gpd.read_file(af_pts[3])\n",
        "df5 = gpd.read_file(af_pts[4])"
      ],
      "execution_count": null,
      "outputs": []
    },
    {
      "cell_type": "code",
      "metadata": {
        "id": "7SyL2J-uf4NK",
        "colab_type": "code",
        "colab": {}
      },
      "source": [
        "frames = [df1, df2, df3, df4, df5]\n",
        "\n",
        "def getFileInfo(dfFrames):\n",
        "  '''\n",
        "  From geodf in frames read from data folder with AF products, \n",
        "  create dictionary based on INSTRUMENT\n",
        "  '''\n",
        "  dic = {'MODIS': [], 'VIIRS': []}\n",
        "  for i, df in enumerate(dfFrames): \n",
        "    minDate = min(df['ACQ_DATE'])\n",
        "    maxDate = max(df['ACQ_DATE'])\n",
        "    numEntries = len(df)\n",
        "    print('filename: ', af_pts[i], '\\nminDate: ', minDate, \n",
        "          '\\nmaxDate: ',maxDate, '\\nnumEntries: ',numEntries)\n",
        "    x = 'df'+ str(i+1)\n",
        "    if df['INSTRUMENT'][0] == 'MODIS': \n",
        "      dic['MODIS'].append(x)\n",
        "    else: \n",
        "      dic['VIIRS'].append(x)\n",
        "  return dic"
      ],
      "execution_count": null,
      "outputs": []
    },
    {
      "cell_type": "code",
      "metadata": {
        "id": "22FsePtqfWPt",
        "colab_type": "code",
        "colab": {}
      },
      "source": [
        "dic_frames = getFileInfo(frames)"
      ],
      "execution_count": null,
      "outputs": []
    },
    {
      "cell_type": "code",
      "metadata": {
        "id": "YIRegdlpiCbY",
        "colab_type": "code",
        "colab": {}
      },
      "source": [
        "# combine based on sensor \n",
        "# MODIS AF (1km) \n",
        "MODIS_AF = pd.concat([eval(x) for x in dic_frames['MODIS']])\n",
        "\n",
        "# VIIRS AF \n",
        "VIIRS_AF = pd.concat([eval(x) for x in dic_frames['VIIRS']])"
      ],
      "execution_count": null,
      "outputs": []
    },
    {
      "cell_type": "code",
      "metadata": {
        "id": "I9YiPOmorEWD",
        "colab_type": "code",
        "colab": {}
      },
      "source": [
        "# clip to western US boundary \n",
        "state_path = 'Data/US_states/'\n",
        "w_modis = getWestBounds(states_list, state_path, MODIS_AF) \n",
        "w_viirs = getWestBounds(states_list, state_path, VIIRS_AF) "
      ],
      "execution_count": null,
      "outputs": []
    },
    {
      "cell_type": "code",
      "metadata": {
        "id": "hHkn0p9a1jhh",
        "colab_type": "code",
        "colab": {}
      },
      "source": [
        "def createDateFields(df, dt_field, dt_format):\n",
        "  ''' from datetime field, creates 4 new columns: \n",
        "  Year, Month, Day, Julian Day\n",
        "  '''\n",
        "  df[dt_field]= pd.to_datetime(df[dt_field], format= dt_format)\n",
        "  df['Year'] = pd.DatetimeIndex(df[dt_field]).year\n",
        "  df['Month'] = pd.DatetimeIndex(df[dt_field]).month\n",
        "  df['Day'] = pd.DatetimeIndex(df[dt_field]).day\n",
        "  df['JD'] = df[dt_field].dt.strftime('%y%j').astype('int64')\n",
        "  df['ACQ_DATE'] = df[dt_field].dt.strftime('%Y-%m-%d')\n",
        "  df[dt_field] = df[dt_field].dt.strftime(dt_format)\n",
        "  return df"
      ],
      "execution_count": null,
      "outputs": []
    },
    {
      "cell_type": "code",
      "metadata": {
        "id": "GX8tq-qrHL8F",
        "colab_type": "code",
        "colab": {}
      },
      "source": [
        "w_modis = createDateFields(w_modis, 'ACQ_DATE', '%Y-%m-%d')\n",
        "w_viirs = createDateFields(w_viirs, 'ACQ_DATE', '%Y-%m-%d')"
      ],
      "execution_count": null,
      "outputs": []
    },
    {
      "cell_type": "code",
      "metadata": {
        "id": "wyxV5ZgPHj1S",
        "colab_type": "code",
        "colab": {}
      },
      "source": [
        "outpath = \"Data/Active_Fire_Products/Filtered\"\n",
        "\n",
        "w_viirs.to_file(os.path.join(outpath, 'VIIRS_AF_2017_2020.shp'))\n",
        "w_modis.to_file(os.path.join(outpath, 'MODIS_1km_2017_2020.shp'))"
      ],
      "execution_count": null,
      "outputs": []
    },
    {
      "cell_type": "code",
      "metadata": {
        "id": "MvNxe8wDnnrj",
        "colab_type": "code",
        "colab": {}
      },
      "source": [
        "outpath = \"Data/Active_Fire_Products/Filtered\"\n",
        "w_modis = gpd.read_file(os.path.join(outpath, 'MODIS_1km', 'MODIS_1km_2017_2020.shp'))"
      ],
      "execution_count": null,
      "outputs": []
    },
    {
      "cell_type": "code",
      "metadata": {
        "id": "ck-maKZ2B5_3",
        "colab_type": "code",
        "colab": {}
      },
      "source": [
        "# create shp for each day in yr \n",
        "rootpath = 'Data/MODIS_Resampling'\n",
        "\n",
        "for yr in range(2017, 2020 + 1):\n",
        "  #create folder by yr\n",
        "  outpath = createFolder(rootpath, str(yr))\n",
        "  df = w_modis[w_modis['Year'] == yr]\n",
        "  for jd in df['JD'].unique().tolist():\n",
        "    day_path = createFolder(outpath, str(jd)[-3:])\n",
        "    daily_df = df[df['JD'] == jd]\n",
        "    #daily_df['ACQ_DATE'] = daily_df['ACQ_DATE'].dt.strftime('%Y-%m-%d')\n",
        "    daily_df.to_file(os.path.join(day_path, 'M6_' + str(yr) + \"_\" + str(jd)[-3:] + '.shp'))"
      ],
      "execution_count": null,
      "outputs": []
    },
    {
      "cell_type": "code",
      "metadata": {
        "id": "dCyHfcmEn8Er",
        "colab_type": "code",
        "colab": {}
      },
      "source": [
        "day_lst = w_modis['JD'].unique().tolist()\n",
        "\n",
        "# def rasMod(MODISAF):\n",
        "#   '''\n",
        "#   resample MODIS AF points to 375m by rasterizing \n",
        "#   '''\n",
        "#   for day in day_lst:\n",
        "#     afLayer = MODIS_AF_EE.filter(ee.Filter.equals('JD', day))\n",
        "#     ras = afLayer.reduceToImage(['JD'], ee.Reducer.first()).reproject(crs='epsg:4326', scale=1000)\n",
        "#     region = MODIS_AF_EE.geometry().bounds()\n",
        "#     ras_375 = ras.resample('bicubic').reproject(crs='epsg:4326', scale=375)\n",
        "#     pt_375 = ras_375.reduceToVectors(**{'geometry': region, 'maxPixels':45135575, 'scale': 375,\n",
        "#                                     'geometryType': 'centroid','labelProperty': 'JD'})"
      ],
      "execution_count": null,
      "outputs": []
    },
    {
      "cell_type": "markdown",
      "metadata": {
        "id": "fQAApoc9AIsP",
        "colab_type": "text"
      },
      "source": [
        "Resampling MODIS to 375m done using arcpy package and merged into 'Data/Active_Fire_Products/Filtered/MODIS_375m'"
      ]
    },
    {
      "cell_type": "code",
      "metadata": {
        "id": "0lf-1p7Cp3zZ",
        "colab_type": "code",
        "colab": {}
      },
      "source": [
        "! pip install geopandas"
      ],
      "execution_count": null,
      "outputs": []
    },
    {
      "cell_type": "code",
      "metadata": {
        "id": "bNE1or0tp57C",
        "colab_type": "code",
        "colab": {}
      },
      "source": [
        "import geopandas as gpd\n",
        "import pandas as pd"
      ],
      "execution_count": null,
      "outputs": []
    },
    {
      "cell_type": "code",
      "metadata": {
        "id": "v9CPyiMO-QzW",
        "colab_type": "code",
        "colab": {}
      },
      "source": [
        "# Match VIIRS records\n",
        "# add attributes (ACQ_DATE, LONGITUDE, LATITUDE, Month, Year) based on JD %y%j\n",
        "\n",
        "mod_375 = gpd.read_file('Data/Active_Fire_Products/Filtered/MODIS_375m')"
      ],
      "execution_count": null,
      "outputs": []
    },
    {
      "cell_type": "code",
      "metadata": {
        "id": "A3FTnoaAtsSu",
        "colab_type": "code",
        "colab": {}
      },
      "source": [
        "# date columns \n",
        "mod_375_new = createDateFields(mod_375, 'grid_code', \"%y%j\")\n",
        "\n",
        "# add lat/lon columns \n",
        "mod_375_new['LONGITUDE'] = mod_375_new['geometry'].x\n",
        "mod_375_new['LATITUDE'] = mod_375_new['geometry'].y\n",
        "\n",
        "# add state columns\n",
        "state_path = 'Data/US_states/'\n",
        "w_modis_375 = getWestBounds(states_list, state_path, mod_375_new) "
      ],
      "execution_count": null,
      "outputs": []
    },
    {
      "cell_type": "code",
      "metadata": {
        "id": "03q7vqmh201L",
        "colab_type": "code",
        "colab": {}
      },
      "source": [
        "w_modis_375['INSTRUMENT'] = 'MODIS'"
      ],
      "execution_count": null,
      "outputs": []
    },
    {
      "cell_type": "code",
      "metadata": {
        "id": "VfH3grop1Aif",
        "colab_type": "code",
        "colab": {}
      },
      "source": [
        "outpath = 'Data/Active_Fire_Products/Filtered/MODIS_375m'\n",
        "# w_modis_375['grid_code'] = w_modis_375['grid_code'].dt.strftime('%Y-%m-%d')\n",
        "w_modis_375.to_file(os.path.join(outpath, 'MODIS_375m_2017_2020.shp'))"
      ],
      "execution_count": null,
      "outputs": []
    },
    {
      "cell_type": "markdown",
      "metadata": {
        "id": "pHnHoq1vII-f",
        "colab_type": "text"
      },
      "source": [
        "### Add to GEE Assets"
      ]
    },
    {
      "cell_type": "code",
      "metadata": {
        "id": "kJiNCv9KQlH0",
        "colab_type": "code",
        "colab": {}
      },
      "source": [
        "# initialize and connect to GEE \n",
        "from google.colab import auth\n",
        "auth.authenticate_user()\n",
        "!earthengine authenticate\n",
        "import ee \n",
        "ee.Initialize()"
      ],
      "execution_count": null,
      "outputs": []
    },
    {
      "cell_type": "code",
      "metadata": {
        "id": "7bEB1ZIUQnca",
        "colab_type": "code",
        "colab": {
          "base_uri": "https://localhost:8080/",
          "height": 34
        },
        "outputId": "e332677c-a55f-4498-ac33-e398e0be0f00"
      },
      "source": [
        "# Installs geemap package\n",
        "import subprocess\n",
        "\n",
        "try:\n",
        "    import geemap\n",
        "except ImportError:\n",
        "    print('geemap package not installed. Installing ...')\n",
        "    subprocess.check_call([\"python\", '-m', 'pip', 'install', 'geemap'])\n",
        "\n",
        "# Checks whether this notebook is running on Google Colab\n",
        "try:\n",
        "    import google.colab\n",
        "    import geemap.eefolium as emap\n",
        "except:\n",
        "    import geemap as emap"
      ],
      "execution_count": 54,
      "outputs": [
        {
          "output_type": "stream",
          "text": [
            "geemap package not installed. Installing ...\n"
          ],
          "name": "stdout"
        }
      ]
    },
    {
      "cell_type": "code",
      "metadata": {
        "id": "ttjhl-VbQa40",
        "colab_type": "code",
        "colab": {}
      },
      "source": [
        "# Connect to google cloud \n",
        "! gcloud auth login"
      ],
      "execution_count": null,
      "outputs": []
    },
    {
      "cell_type": "code",
      "metadata": {
        "id": "HSzi4gJdIOYr",
        "colab_type": "code",
        "colab": {}
      },
      "source": [
        "# add filtered shp into cloud bucket for easier access \n",
        "!gsutil cp -r 'Data/Active_Fire_Products/Filtered/VIIRS' gs://activefires_bucket\n",
        "!gsutil cp -r 'Data/Active_Fire_Products/Filtered/MODIS_1km' gs://activefires_bucket\n",
        "!gsutil cp -r 'Data/Active_Fire_Products/Filtered/MODIS_375m' gs://activefires_bucket"
      ],
      "execution_count": null,
      "outputs": []
    },
    {
      "cell_type": "code",
      "metadata": {
        "id": "h1IfciH0Qcyd",
        "colab_type": "code",
        "colab": {}
      },
      "source": [
        "# export files hosted in cloud bucket as assets to GEE \n",
        "# needed to set up a bucket in google cloud: gs://esca_bucket\n",
        "! earthengine upload table --asset_id=users/escaduto/Western_FireTrends/VIIRS_AF_2017_2020 gs://activefires_bucket/VIIRS/VIIRS_AF_2017_2020.shp\n",
        "! earthengine upload table --asset_id=users/escaduto/Western_FireTrends/MODIS_375m_2017_2020 gs://activefires_bucket/MODIS_375m/MODIS_375m_2017_2020.shp"
      ],
      "execution_count": null,
      "outputs": []
    },
    {
      "cell_type": "code",
      "metadata": {
        "id": "mCDx0UP9QexT",
        "colab_type": "code",
        "colab": {}
      },
      "source": [
        "# import feature collection asset \n",
        "VIIRS_AF_EE = ee.FeatureCollection('users/escaduto/Western_FireTrends/VIIRS_AF_2017_2020')\n",
        "MODIS_AF_EE = ee.FeatureCollection('users/escaduto/Western_FireTrends/MODIS_375m_2017_2020')"
      ],
      "execution_count": null,
      "outputs": []
    },
    {
      "cell_type": "markdown",
      "metadata": {
        "id": "1vDZrzeS1JGm",
        "colab_type": "text"
      },
      "source": [
        "## Define Fire Instance\n",
        "\n",
        "Create groups of AF points based on criteria: distance & datetime to identify fire clusters."
      ]
    },
    {
      "cell_type": "markdown",
      "metadata": {
        "id": "9yr9RkmDXBaA",
        "colab_type": "text"
      },
      "source": [
        "### Perform Moving Search"
      ]
    },
    {
      "cell_type": "code",
      "metadata": {
        "id": "3tgMz7RcCb3g",
        "colab_type": "code",
        "colab": {}
      },
      "source": [
        "def addUniqueID(feature):\n",
        "  '''\n",
        "  add unique ID into properties based on JD, Time, Lat, Lon \n",
        "  ID's will be used for neighbor searches for identifying fire pnt clusters\n",
        "  '''\n",
        "  lat = ee.Number(feature.getNumber('LATITUDE')).multiply(100000).int().format('%s')\n",
        "  lon = ee.Number(feature.getNumber('LONGITUDE')).multiply(100000).int().format('%s').replace('-', '')\n",
        "  name = ee.Number(feature.getNumber('JD')).format('%s').cat(ee.String(feature.getString('ACQ_TIME'))).cat(lat).cat(lon)\n",
        "  return feature.set('unique_id', name)\n",
        "\n",
        "# Map the ID creation function over the FeatureCollection.\n",
        "VIIRS_AF_EE = VIIRS_AF_EE.map(addUniqueID)"
      ],
      "execution_count": null,
      "outputs": []
    },
    {
      "cell_type": "code",
      "metadata": {
        "id": "0QZ0am29P7mU",
        "colab_type": "code",
        "colab": {}
      },
      "source": [
        "# export AF layer with unique IDS \n",
        "task = ee.batch.Export.table.toDrive(**{'collection': VIIRS_AF_EE, 'description': 'VIIRS_Filt_2017_2020', 'folder':'Data', 'fileFormat': 'SHP'})\n",
        "task.start()"
      ],
      "execution_count": null,
      "outputs": []
    },
    {
      "cell_type": "code",
      "metadata": {
        "id": "M3cxN0P1QHpd",
        "colab_type": "code",
        "colab": {}
      },
      "source": [
        "task.status()"
      ],
      "execution_count": null,
      "outputs": []
    },
    {
      "cell_type": "code",
      "metadata": {
        "id": "FkEQ7dFbc0kb",
        "colab_type": "code",
        "colab": {}
      },
      "source": [
        "# Group by distance and datetime \n",
        "# for each VIIRS pnt, filter gt lt 7 days, distance within 100m \n",
        "# for selected pnts, do the same thing until None, return .distinct feature collection as 1 grouped fire pnts \n",
        "\n",
        "from datetime import datetime,timedelta\n",
        "\n",
        "def dateRanges(afLayer, m):\n",
        "  '''\n",
        "  From iterating list, get date object and find +/- 7 day range \n",
        "  Returns new feature collection \n",
        "  '''\n",
        "  date = m['properties']['ACQ_DATE']\n",
        "  dt = datetime.strptime(date, '%Y-%m-%d')\n",
        "  dt_jd = dt.strftime('%y%j')\n",
        "  pre_dt = dt - timedelta(days=30)\n",
        "  pre_jd = pre_dt.strftime('%y%j')\n",
        "  post_dt = dt + timedelta(days=30)\n",
        "  post_jd = post_dt.strftime('%y%j')\n",
        "  filt_layer = afLayer.filter(ee.Filter.rangeContains('JD', int(pre_jd), int(post_jd)))\n",
        "  return filt_layer\n",
        "\n",
        "def filtBounds(filt_dt, m, dist_meters):\n",
        "  '''\n",
        "  Based on filtered date range layer, filter based on user defined distance \n",
        "  Returns new feature collection \n",
        "  '''\n",
        "  geo_pt = ee.Geometry.Point((m['properties']['LONGITUDE'], m['properties']['LATITUDE']))\n",
        "  buff = geo_pt.buffer(dist_meters)\n",
        "  filt_layer = filt_dt.filterBounds(buff)\n",
        "  return filt_layer"
      ],
      "execution_count": null,
      "outputs": []
    },
    {
      "cell_type": "code",
      "metadata": {
        "id": "4S_E_22FiYBS",
        "colab_type": "code",
        "colab": {}
      },
      "source": [
        "def get_groups_recursion(af_list):\n",
        "  '''\n",
        "  Return List of List IDS for fire clusters based on af_list instances from predefined conditions of distance and datetime \n",
        "  For each neighbor recursively search until no neighbors that satisfy condition \n",
        "  '''\n",
        "  visited_dict = {}\n",
        "  track_groups = []\n",
        "  for i, point in enumerate(af_list):\n",
        "    print(i+1, ' out of ', len(af_list))\n",
        "    grouped_points = get_group_helper(point, visited_dict)\n",
        "    #print('visited ', len(visited_dict.keys()))\n",
        "    if len(grouped_points) > 3:\n",
        "      #print(grouped_points)\n",
        "      track_groups.append(grouped_points)\n",
        "  return track_groups\n",
        "\n",
        "def get_group_helper(point, visited_dict):\n",
        "  stack = [point]\n",
        "  result = []\n",
        "  while len(stack) > 0:\n",
        "    curr_point = stack.pop()\n",
        "    curr_point_id = curr_point['properties']['unique_id']\n",
        "    if curr_point_id not in visited_dict:\n",
        "      result.append(curr_point_id)\n",
        "      visited_dict[curr_point_id] = True\n",
        "    \n",
        "      filt_dt = dateRanges(VIIRS_AF_EE, curr_point) # change to merged M6 + V1 file \n",
        "      filt_dist = filtBounds(filt_dt, curr_point, 3000)\n",
        "\n",
        "      filt_list = filt_dist.toList(filt_dist.size())\n",
        "      i_list= filt_list.getInfo() \n",
        "\n",
        "      for i, children_node in enumerate(i_list): \n",
        "        stack.append(children_node)\n",
        "  return result"
      ],
      "execution_count": null,
      "outputs": []
    },
    {
      "cell_type": "markdown",
      "metadata": {
        "id": "mrH7T4XPcSiE",
        "colab_type": "text"
      },
      "source": [
        "Save grouped IDS by state and year in csv for easier retrieval"
      ]
    },
    {
      "cell_type": "code",
      "metadata": {
        "id": "_9nKFpnmUSeP",
        "colab_type": "code",
        "colab": {}
      },
      "source": [
        "import csv\n",
        "rootPath = 'Data/Tracker_CSV'\n",
        "\n",
        "# filter by month (March, April, May, June)\n",
        "# for state, by year create ID tracker csv \n",
        "states_list = [['New Mexico', 'NM'], ['Colorado', 'CO']]\n",
        "\n",
        "# [['Montana', 'MT'], ['Wyoming', 'WY'], ['Idaho','ID'], \n",
        "#                ['Nevada', 'NV'], ['Oregon', 'OR'], ['Washington', 'WA'], ['Arizona', 'AZ'], \n",
        "#                ['California', 'CA'], ['Utah', 'UT'], ['New Mexico', 'NM'], ['Colorado', 'CO']]\n",
        "\n",
        "years_range = range(2017, 2017 + 1)\n",
        "\n",
        "for yr in years_range: \n",
        "  for st_full, st_abr in states_list: \n",
        "    print(str(yr), st_full)\n",
        "    afLayer = VIIRS_AF_EE.filter(ee.Filter.rangeContains('Month', 3, 6)) \n",
        "    afLayer = afLayer.filter(ee.Filter.equals('Year', int(yr)))\n",
        "    afLayer = afLayer.filter(ee.Filter.equals('STATE_ABBR', st_abr))\n",
        "    lista = afLayer.toList(afLayer.size())\n",
        "    af_list= lista.getInfo()\n",
        "    groups = get_groups_recursion(af_list)\n",
        "    outpath = createFolder(rootPath, st_full)\n",
        "    with open(os.path.join(outpath, st_abr + \"_\" + str(yr) + '_fireID_tracker.csv'), 'w', newline='') as csvfile:\n",
        "      writer = csv.writer(csvfile)\n",
        "      writer.writerows(groups)\n"
      ],
      "execution_count": null,
      "outputs": []
    },
    {
      "cell_type": "markdown",
      "metadata": {
        "id": "iyTCfuK0USms",
        "colab_type": "text"
      },
      "source": [
        "### Add Attribute 'Fire ID'\n",
        "\n",
        "This is done with geopandas. Fire ID attribute is added based on dictionary created by the clustering method above. If unique_id matches find 'key' value that serves as a grouping ID to differentiate individual fire events. ** NOTE: Need to figure out how to do the same using ee .map over featurecollection.  "
      ]
    },
    {
      "cell_type": "code",
      "metadata": {
        "id": "EH9rG1Tfz_Vx",
        "colab_type": "code",
        "colab": {}
      },
      "source": [
        "# # function to return key for any value \n",
        "def get_key(val, my_dict): \n",
        "    for key, value in my_dict.items(): \n",
        "      #ee_val = ee.String(val)\n",
        "      for v in value: \n",
        "        #ee_v = ee.String(v)\n",
        "        #if ee_val.compareTo(ee_v).getInfo() == 0:\n",
        "        if v == val: \n",
        "          return int(key) \n",
        "    return False "
      ],
      "execution_count": null,
      "outputs": []
    },
    {
      "cell_type": "code",
      "metadata": {
        "id": "nBoFxYVlQx3I",
        "colab_type": "code",
        "colab": {}
      },
      "source": [
        "! pip install geopandas"
      ],
      "execution_count": null,
      "outputs": []
    },
    {
      "cell_type": "code",
      "metadata": {
        "id": "C0lrBpsUQiXW",
        "colab_type": "code",
        "colab": {}
      },
      "source": [
        "import geopandas as gpd \n",
        "\n",
        "# read in AF combined layer WITH unique_id field \n",
        "AF_Layer = gpd.read_file('Data/VIIRS_filt_2017_2020.shp')"
      ],
      "execution_count": null,
      "outputs": []
    },
    {
      "cell_type": "markdown",
      "metadata": {
        "id": "YdRA02JQATPv",
        "colab_type": "text"
      },
      "source": [
        "####State & Year"
      ]
    },
    {
      "cell_type": "code",
      "metadata": {
        "id": "Mv2OVEWaXL7U",
        "colab_type": "code",
        "colab": {}
      },
      "source": [
        "from csv import reader\n",
        "# create new layers by State & Year \n",
        "csv_lst = lstFiles('Data/Tracker_CSV', '.csv')\n",
        "outpath = 'Data/Fire_Instances'\n",
        "\n",
        "for csv in csv_lst: \n",
        "  nm = csv.split('/')\n",
        "  state_nm = nm[-2]\n",
        "  file_name = nm[-1]\n",
        "  nmm = file_name.split('_')\n",
        "  yr = nmm[1]\n",
        "  st_abbr = nmm[0]\n",
        "  st_path = createFolder(outpath, state_nm)\n",
        "  yr_path = createFolder(st_path, yr)\n",
        "  file_path = os.path.join(yr_path, st_abbr + \"_\" + yr + \"_AF.shp\")\n",
        "  if os.path.isfile(file_path) == False:\n",
        "    print(st_abbr, yr)\n",
        "    with open(csv, 'r') as read_obj:\n",
        "      # pass the file object to reader() to get the reader object\n",
        "      csv_reader = reader(read_obj)\n",
        "      # Pass reader object to list() to get a list of lists\n",
        "      list_of_rows = list(csv_reader)\n",
        "      group = list_of_rows\n",
        "\n",
        "    fire_dict = dict(zip(list(range(1, len(group) +1)), group))\n",
        "    new_keys = []\n",
        "    for id in AF_Layer['unique_id']:\n",
        "      key = get_key(id, fire_dict)\n",
        "      new_keys.append(key)\n",
        "    \n",
        "    # add new field and filter out non-grouped points \n",
        "    AF_Layer['fire_ID'] = new_keys\n",
        "    new_fire_layer = AF_Layer[AF_Layer['fire_ID'] != False]\n",
        "    new_fire_layer['fire_ID'] = new_fire_layer['fire_ID'].astype('int64')\n",
        "    new_fire_layer.to_file(os.path.join(yr_path, st_abbr + \"_\" + yr + \"_AF.shp\"))"
      ],
      "execution_count": null,
      "outputs": []
    },
    {
      "cell_type": "markdown",
      "metadata": {
        "id": "9xhK8zgrAVHe",
        "colab_type": "text"
      },
      "source": [
        "#### ALL"
      ]
    },
    {
      "cell_type": "code",
      "metadata": {
        "id": "W2B7ZOhBAyGl",
        "colab_type": "code",
        "colab": {}
      },
      "source": [
        "#combine all files into one csv \n",
        "import csv \n",
        "from csv import reader\n",
        "\n",
        "csv_lst = lstFiles('Data/Tracker_CSV', '.csv')\n",
        "out_csv = \"Data/Tracker_CSV/ALL_WesternUS/WesternUS_AF_2017_2020.csv\"\n",
        "\n",
        "if os.path.isfile(out_csv) == True:\n",
        "  os.remove(out_csv)\n",
        "else:\n",
        "  with open(out_csv,'a') as fd:\n",
        "    writer = csv.writer(fd)\n",
        "    for fl in csv_lst:\n",
        "      with open(fl, 'r') as read_obj:\n",
        "        csv_reader = reader(read_obj)\n",
        "        list_of_rows = list(csv_reader)\n",
        "        writer.writerows(list_of_rows)"
      ],
      "execution_count": null,
      "outputs": []
    },
    {
      "cell_type": "code",
      "metadata": {
        "id": "GeQ-l8G9FR6w",
        "colab_type": "code",
        "colab": {}
      },
      "source": [
        "with open(out_csv, 'r') as read_obj:\n",
        "  # pass the file object to reader() to get the reader object\n",
        "  csv_reader = reader(read_obj)\n",
        "  # Pass reader object to list() to get a list of lists\n",
        "  list_of_rows = list(csv_reader)\n",
        "  group = list_of_rows"
      ],
      "execution_count": null,
      "outputs": []
    },
    {
      "cell_type": "code",
      "metadata": {
        "id": "5ejayhMdF1a-",
        "colab_type": "code",
        "colab": {}
      },
      "source": [
        "# read in AF combined layer WITH unique_id field \n",
        "AF_Layer = gpd.read_file('Data/VIIRS_filt_2017_2020.shp')"
      ],
      "execution_count": null,
      "outputs": []
    },
    {
      "cell_type": "code",
      "metadata": {
        "id": "cBjZnYBQFaRV",
        "colab_type": "code",
        "colab": {}
      },
      "source": [
        "outpath = 'Data/Fire_Instances'\n",
        "\n",
        "fire_dict = dict(zip(list(range(1, len(group) +1)), group))\n",
        "new_keys = []\n",
        "for id in AF_Layer['unique_id']:\n",
        "  key = get_key(id, fire_dict)\n",
        "  new_keys.append(key)"
      ],
      "execution_count": null,
      "outputs": []
    },
    {
      "cell_type": "code",
      "metadata": {
        "id": "jqZe6_FyZBUn",
        "colab_type": "code",
        "colab": {}
      },
      "source": [
        "# add new field and filter out non-grouped points \n",
        "AF_Layer['fire_ID'] = new_keys\n",
        "new_fire_layer = AF_Layer[AF_Layer['fire_ID'] != False]\n",
        "new_fire_layer['fire_ID'] = new_fire_layer['fire_ID'].astype('int64')\n",
        "new_fire_layer.to_file(os.path.join(outpath, 'ALL_WesternUS', 'ALL_WesternUS_2017_2020.shp'))"
      ],
      "execution_count": null,
      "outputs": []
    },
    {
      "cell_type": "code",
      "metadata": {
        "id": "K0ACmIlKV7Oa",
        "colab_type": "code",
        "colab": {}
      },
      "source": [
        "# import into bucket \n",
        "!gsutil cp -r 'Data/Fire_Instances/ALL_WesternUS' gs://activefires_bucket"
      ],
      "execution_count": null,
      "outputs": []
    },
    {
      "cell_type": "code",
      "metadata": {
        "id": "hNuPDatQWPY2",
        "colab_type": "code",
        "colab": {}
      },
      "source": [
        "# import to assets \n",
        "! earthengine upload table --asset_id=users/escaduto/Western_FireTrends/VIIRS_Fire_ID_2017_2020 gs://activefires_bucket/ALL_WesternUS/ALL_WesternUS_2017_2020.shp"
      ],
      "execution_count": null,
      "outputs": []
    },
    {
      "cell_type": "code",
      "metadata": {
        "id": "epX5oUAPpibY",
        "colab_type": "code",
        "colab": {}
      },
      "source": [
        "# ee_dict = ee.Dictionary(fire_dict)\n",
        "# dict_keys = ee_dict.keys()\n",
        "# fire_dict = dict(zip(list(range(1, len(groups) +1)), groups))\n",
        "# ee_dict = ee.Dictionary(fire_dict)\n",
        "\n",
        "# def addAttribute(feature):\n",
        "#   idName = ee.String(feature.getString('unique_id')) \n",
        "#   key = get_key(idName, ee_dict)\n",
        "#   return key\n",
        "\n",
        "# VIIRS_AF_EE.map(addAttribute)\n",
        "\n",
        "# Map the ID creation function over the FeatureCollection.\n",
        "#VIIRS_AF_EE_filt = VIIRS_AF_EE.map(addAttribute)\n",
        "#VIIRS_AF_EE_filt = VIIRS_AF_EE_filt.filter(ee.Filter.neq('fire_key', None))"
      ],
      "execution_count": null,
      "outputs": []
    },
    {
      "cell_type": "markdown",
      "metadata": {
        "id": "60saZ-hwXAOT",
        "colab_type": "text"
      },
      "source": [
        "### Visualize Fire Groups"
      ]
    },
    {
      "cell_type": "code",
      "metadata": {
        "id": "-iMkHDSXXwuN",
        "colab_type": "code",
        "colab": {}
      },
      "source": [
        "VIIRS_FireGrp_EE = ee.FeatureCollection('users/escaduto/Western_FireTrends/VIIRS_Fire_ID_2017_2020')"
      ],
      "execution_count": null,
      "outputs": []
    },
    {
      "cell_type": "code",
      "metadata": {
        "id": "if48BfE3k7s-",
        "colab_type": "code",
        "colab": {
          "base_uri": "https://localhost:8080/",
          "height": 34
        },
        "outputId": "e4934fdc-88e3-4b86-cbd0-01c691bb9065"
      },
      "source": [
        "# search by points \n",
        "def getFireID(layer, coord):\n",
        "  geo_pt = ee.Geometry.Point(coord)\n",
        "  buff = geo_pt.buffer(1000)\n",
        "  sample_fire = layer.filterBounds(buff)\n",
        "  sample_info = sample_fire.first().getInfo()\n",
        "  fire_id = sample_info['properties']['fire_ID']\n",
        "  return fire_id\n",
        "\n",
        "coord = (47.6617,  -110.7806)\n",
        "search_id = getFireID(VIIRS_FireGrp_EE, coord)\n",
        "search_id"
      ],
      "execution_count": null,
      "outputs": [
        {
          "output_type": "execute_result",
          "data": {
            "text/plain": [
              "3781"
            ]
          },
          "metadata": {
            "tags": []
          },
          "execution_count": 299
        }
      ]
    },
    {
      "cell_type": "code",
      "metadata": {
        "id": "7Exno_rQatlw",
        "colab_type": "code",
        "colab": {
          "base_uri": "https://localhost:8080/",
          "height": 34
        },
        "outputId": "50cfeddd-bb1d-4452-a96a-418edcbcf670"
      },
      "source": [
        "sample = VIIRS_FireGrp_EE.filter(ee.Filter.equals('fire_ID', 1))\n",
        "min_JD = sample.sort('JD', True).first().getInfo()['properties']['JD']\n",
        "max_JD = sample.sort('JD', False).first().getInfo()['properties']['JD']\n",
        "lat = sample.sort('JD', True).first().getInfo()['properties']['LATITUDE']\n",
        "lon = sample.sort('JD', False).first().getInfo()['properties']['LONGITUDE']\n",
        "min_JD, max_JD, lat, lon"
      ],
      "execution_count": null,
      "outputs": [
        {
          "output_type": "execute_result",
          "data": {
            "text/plain": [
              "(18059, 18070, 46.67552, -110.77136)"
            ]
          },
          "metadata": {
            "tags": []
          },
          "execution_count": 321
        }
      ]
    },
    {
      "cell_type": "code",
      "metadata": {
        "id": "Hdb9IavIbOYd",
        "colab_type": "code",
        "colab": {}
      },
      "source": [
        "# Visualize the resulting interpolated raster.\n",
        "colors = ['00007F', '0000FF', '0074FF',\n",
        "          '0DFFEA', '8CFF41', 'FFDD00',\n",
        "          'FF3700', 'C30000', '790000']\n",
        "vis = {'min':min_JD, 'max':max_JD, 'palette': colors}"
      ],
      "execution_count": null,
      "outputs": []
    },
    {
      "cell_type": "code",
      "metadata": {
        "id": "gaG2ddApc6pb",
        "colab_type": "code",
        "colab": {}
      },
      "source": [
        "def visualizeByAttribute(fc, className): \n",
        "  '''\n",
        "  visualize building polygon based on damage type 'class' (0,1) \n",
        "  '''   \n",
        "  empty = ee.Image().byte()\n",
        "  feature = empty.paint(**{\n",
        "    'featureCollection': fc,\n",
        "    'color': className,\n",
        "    'width': 2\n",
        "  })\n",
        "  return feature"
      ],
      "execution_count": null,
      "outputs": []
    },
    {
      "cell_type": "code",
      "metadata": {
        "id": "aVqI0FKgkv-F",
        "colab_type": "code",
        "colab": {}
      },
      "source": [
        "sample_buff = sample.geometry().convexHull().buffer(3000)\n",
        "clipped = sample_buff.intersection(MODIS_AF_EE)"
      ],
      "execution_count": null,
      "outputs": []
    },
    {
      "cell_type": "code",
      "metadata": {
        "id": "B5RRvb_FbkNu",
        "colab_type": "code",
        "colab": {
          "base_uri": "https://localhost:8080/",
          "height": 433
        },
        "outputId": "04bc8c55-8d6e-48da-e362-63998cd9cf6b"
      },
      "source": [
        "Map = emap.Map(center=[lat,lon], zoom=10)\n",
        "Map.add_basemap('TERRAIN')\n",
        "Map.addLayer(VII_MOD_AF, '', 'VII_MOD_AF')\n",
        "Map.addLayer(VIIRS_FireGrp_EE, '', 'VIIRS_FireGrp_EE')\n",
        "Map.addLayer(MOD_extracted, '', 'clipped')\n",
        "Map.addLayer(visualizeByAttribute(sample, 'JD'), vis, 'sample')\n",
        "Map.addLayerControl()\n",
        "Map"
      ],
      "execution_count": null,
      "outputs": [
        {
          "output_type": "execute_result",
          "data": {
            "text/html": [
              "<div style=\"width:100%;\"><div style=\"position:relative;width:100%;height:0;padding-bottom:60%;\"><span style=\"color:#565656\">Make this Notebook Trusted to load map: File -> Trust Notebook</span><iframe src=\"about:blank\" style=\"position:absolute;width:100%;height:100%;left:0;top:0;border:none !important;\" data-html=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 onload=\"this.contentDocument.open();this.contentDocument.write(atob(this.getAttribute('data-html')));this.contentDocument.close();\" allowfullscreen webkitallowfullscreen mozallowfullscreen></iframe></div></div>"
            ],
            "text/plain": [
              "<geemap.eefolium.Map at 0x7f6b3b2e9ef0>"
            ]
          },
          "metadata": {
            "tags": []
          },
          "execution_count": 326
        }
      ]
    },
    {
      "cell_type": "markdown",
      "metadata": {
        "id": "m66xoNmiXYZq",
        "colab_type": "text"
      },
      "source": [
        "\n",
        "## Extract & Merge VII + M6 \n",
        "\n",
        "Either from Interagency perimeter, AF point bounds, and Landsat burn scar. For now, just use Viirs bounds w/ 3km buffer. "
      ]
    },
    {
      "cell_type": "code",
      "metadata": {
        "id": "xF2KKN63gWaH",
        "colab_type": "code",
        "colab": {}
      },
      "source": [
        "# for all fire_ID instance, filter get layer \n",
        "# get convex HULL and create buff\n",
        "# when MODIS file contains in poly, filter by date range \n",
        "\n",
        "def mergeAF(ID, viirs_Grp, min_jd, max_jd, viGrp_geo):\n",
        "  viGrp_buff = viGrp_geo.buffer(3000)\n",
        "  MOD_filt_dt = MODIS_AF_EE.filter(ee.Filter.rangeContains('JD', min_jd  - 14, max_jd  + 14))\n",
        "  MOD_extracted = MOD_filt_dt.filterBounds(viGrp_buff)\n",
        "  MOD_extracted = MOD_extracted.map(fireID)\n",
        "  VII_MOD_AF = viirs_Grp.merge(MOD_extracted)\n",
        "  return VII_MOD_AF\n",
        "\n",
        "ID = 1 \n",
        "viirs_Grp = VIIRS_FireGrp_EE.filter(ee.Filter.equals('fire_ID', ID))\n",
        "viirsPnts_list = viirs_Grp.toList(viirs_Grp.size())\n",
        "v_list= viirsPnts_list.getInfo()\n",
        "min_jd = min([x['properties']['JD'] for x in v_list])\n",
        "max_jd = max([x['properties']['JD'] for x in v_list])\n",
        "viGrp_geo = viirs_Grp.geometry().convexHull()\n",
        "\n",
        "VII_MOD_AF = mergeAF(ID, viirs_Grp, min_jd, max_jd, viGrp_geo)"
      ],
      "execution_count": null,
      "outputs": []
    },
    {
      "cell_type": "markdown",
      "metadata": {
        "id": "oqcanuA8XTQ-",
        "colab_type": "text"
      },
      "source": [
        "## Interpolation\n",
        "\n"
      ]
    },
    {
      "cell_type": "markdown",
      "metadata": {
        "id": "mGwb5bXR7Q-M",
        "colab_type": "text"
      },
      "source": [
        "### IDW"
      ]
    },
    {
      "cell_type": "code",
      "metadata": {
        "id": "Vh8H6mWpjHeD",
        "colab_type": "code",
        "colab": {
          "base_uri": "https://localhost:8080/",
          "height": 433
        },
        "outputId": "2ddd313c-415e-4cd8-d534-921b7685138e"
      },
      "source": [
        "# This is the name of the property to interpolate.\n",
        "propertyToInterpolate = 'JD'\n",
        "\n",
        "# Combine mean and SD reducers for efficiency.\n",
        "combinedReducer = ee.Reducer.mean()\\\n",
        "                            .combine(reducer2=ee.Reducer.stdDev(),\n",
        "                                     sharedInputs=True)\n",
        "\n",
        "# Estimate global mean and standard deviation (SD) from the points.\n",
        "stats = sample.reduceColumns(reducer=combinedReducer,\n",
        "                                             selectors= [propertyToInterpolate])\n",
        "\n",
        "# Do the interpolation, valid to 50 kilometers.\n",
        "interpolated = sample.inverseDistance(range= 500,\n",
        "                                          propertyName=propertyToInterpolate,\n",
        "                                          mean=stats.get('mean'),\n",
        "                                          stdDev=stats.get('stdDev'),\n",
        "                                          gamma=0.05)\n",
        "\n",
        "Map = emap.Map(center=[lat, lon], zoom=10)\n",
        "Map.addLayer(interpolated, vis, 'inter')\n",
        "Map.addLayer(sample, '', 'sample')\n",
        "Map.addLayerControl()\n",
        "Map"
      ],
      "execution_count": null,
      "outputs": [
        {
          "output_type": "execute_result",
          "data": {
            "text/html": [
              "<div style=\"width:100%;\"><div style=\"position:relative;width:100%;height:0;padding-bottom:60%;\"><span style=\"color:#565656\">Make this Notebook Trusted to load map: File -> Trust Notebook</span><iframe src=\"about:blank\" style=\"position:absolute;width:100%;height:100%;left:0;top:0;border:none !important;\" data-html=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 onload=\"this.contentDocument.open();this.contentDocument.write(atob(this.getAttribute('data-html')));this.contentDocument.close();\" allowfullscreen webkitallowfullscreen mozallowfullscreen></iframe></div></div>"
            ],
            "text/plain": [
              "<geemap.eefolium.Map at 0x7f6b3b292320>"
            ]
          },
          "metadata": {
            "tags": []
          },
          "execution_count": 327
        }
      ]
    },
    {
      "cell_type": "markdown",
      "metadata": {
        "id": "ujdc9MFm7TVF",
        "colab_type": "text"
      },
      "source": [
        "### Kriging"
      ]
    },
    {
      "cell_type": "code",
      "metadata": {
        "id": "LIAr4559oBLj",
        "colab_type": "code",
        "colab": {
          "base_uri": "https://localhost:8080/",
          "height": 433
        },
        "outputId": "82151bb7-2019-4460-c250-1197621c808d"
      },
      "source": [
        "# Interpolate \n",
        "interpolated = VII_MOD_AF.kriging(propertyName='JD',\n",
        "                               shape='spherical',\n",
        "                               range=500,\n",
        "                               sill=1.0,\n",
        "                               nugget=0.1,\n",
        "                               maxDistance=500,\n",
        "                               reducer='min')\n",
        "\n",
        "Map = emap.Map(center=[lat,lon], zoom=12)\n",
        "Map.addLayer(interpolated, vis, 'inter')\n",
        "Map.addLayer(visualizeByAttribute(VII_MOD_AF, 'JD'), vis, 'sample')\n",
        "Map.addLayerControl()\n",
        "Map"
      ],
      "execution_count": null,
      "outputs": [
        {
          "output_type": "execute_result",
          "data": {
            "text/html": [
              "<div style=\"width:100%;\"><div style=\"position:relative;width:100%;height:0;padding-bottom:60%;\"><span style=\"color:#565656\">Make this Notebook Trusted to load map: File -> Trust Notebook</span><iframe src=\"about:blank\" style=\"position:absolute;width:100%;height:100%;left:0;top:0;border:none !important;\" data-html=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 onload=\"this.contentDocument.open();this.contentDocument.write(atob(this.getAttribute('data-html')));this.contentDocument.close();\" allowfullscreen webkitallowfullscreen mozallowfullscreen></iframe></div></div>"
            ],
            "text/plain": [
              "<geemap.eefolium.Map at 0x7f6b3b380940>"
            ]
          },
          "metadata": {
            "tags": []
          },
          "execution_count": 328
        }
      ]
    },
    {
      "cell_type": "markdown",
      "metadata": {
        "id": "Nouss9z0pmjs",
        "colab_type": "text"
      },
      "source": [
        "## Convert to Vector "
      ]
    },
    {
      "cell_type": "code",
      "metadata": {
        "id": "6YmEtDDipprG",
        "colab_type": "code",
        "colab": {}
      },
      "source": [
        "sample_geo = VII_MOD_AF.geometry().convexHull()\n",
        "vectors = interpolated.toLong().reduceToVectors(\n",
        "  geometryType= 'polygon',\n",
        "  geometry = sample_geo,\n",
        "  scale=30,\n",
        "  eightConnected= True,\n",
        "  labelProperty= 'JD', crs= 'EPSG:4326')"
      ],
      "execution_count": null,
      "outputs": []
    },
    {
      "cell_type": "code",
      "metadata": {
        "id": "UBbvc0YiAm6U",
        "colab_type": "code",
        "colab": {}
      },
      "source": [
        "def visualizeByAttribute(fc, className): \n",
        "  '''\n",
        "  visualize building polygon based on damage type 'class' (0,1) \n",
        "  '''   \n",
        "  empty = ee.Image().byte()\n",
        "  feature = empty.paint(**{\n",
        "    'featureCollection': fc,\n",
        "    'color': className,\n",
        "    'width': 2\n",
        "  })\n",
        "  return feature"
      ],
      "execution_count": null,
      "outputs": []
    },
    {
      "cell_type": "code",
      "metadata": {
        "id": "hbT_SaLZ6lR1",
        "colab_type": "code",
        "colab": {
          "base_uri": "https://localhost:8080/",
          "height": 433
        },
        "outputId": "f24ec262-8858-4604-9cf7-7f8f7949e4f9"
      },
      "source": [
        "Map = emap.Map(center=[lat,lon], zoom=12)\n",
        "Map.add_basemap('SATELLITE')\n",
        "Map.addLayer(interpolated, vis, 'inter')\n",
        "Map.addLayer(visualizeByAttribute(vectors, 'JD'), vis, 'perimeter')\n",
        "Map.addLayer(visualizeByAttribute(VII_MOD_AF, 'JD'), vis, 'sample_pnts')\n",
        "Map.addLayerControl()\n",
        "Map"
      ],
      "execution_count": null,
      "outputs": [
        {
          "output_type": "execute_result",
          "data": {
            "text/html": [
              "<div style=\"width:100%;\"><div style=\"position:relative;width:100%;height:0;padding-bottom:60%;\"><span style=\"color:#565656\">Make this Notebook Trusted to load map: File -> Trust Notebook</span><iframe src=\"about:blank\" style=\"position:absolute;width:100%;height:100%;left:0;top:0;border:none !important;\" data-html=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 onload=\"this.contentDocument.open();this.contentDocument.write(atob(this.getAttribute('data-html')));this.contentDocument.close();\" allowfullscreen webkitallowfullscreen mozallowfullscreen></iframe></div></div>"
            ],
            "text/plain": [
              "<geemap.eefolium.Map at 0x7f6b3b3584e0>"
            ]
          },
          "metadata": {
            "tags": []
          },
          "execution_count": 331
        }
      ]
    },
    {
      "cell_type": "code",
      "metadata": {
        "id": "5meTE9ZCe5T7",
        "colab_type": "code",
        "colab": {}
      },
      "source": [
        "file_name = 'sample_perimeter'\n",
        "task = ee.batch.Export.table.toDrive(**{'collection': vectors, 'description': file_name, 'folder':'Data', 'fileFormat': 'SHP'})\n",
        "task.start()"
      ],
      "execution_count": null,
      "outputs": []
    },
    {
      "cell_type": "markdown",
      "metadata": {
        "id": "OZNBXDwN8Y8I",
        "colab_type": "text"
      },
      "source": [
        "## Perform All Steps & Export \n",
        "\n",
        "1. Extract/Merge AF \n",
        "2. Interpolate \n",
        "3. Convert to Perimeter "
      ]
    },
    {
      "cell_type": "code",
      "metadata": {
        "id": "GEtHZdwmPvHE",
        "colab_type": "code",
        "colab": {}
      },
      "source": [
        "import csv \n",
        "from csv import reader\n",
        "\n",
        "out_csv = 'Data/Tracker_CSV/ALL_WesternUS/WesternUS_AF_2017_2020.csv'\n",
        "\n",
        "with open(out_csv, 'r') as read_obj:\n",
        "  # pass the file object to reader() to get the reader object\n",
        "  csv_reader = reader(read_obj)\n",
        "  # Pass reader object to list() to get a list of lists\n",
        "  list_of_rows = list(csv_reader)\n",
        "  group = list_of_rows\n",
        "  \n",
        "fire_dict = dict(zip(list(range(1, len(group) +1)), group))"
      ],
      "execution_count": null,
      "outputs": []
    },
    {
      "cell_type": "code",
      "metadata": {
        "id": "hYI0howu6wfU",
        "colab_type": "code",
        "colab": {
          "base_uri": "https://localhost:8080/",
          "height": 34
        },
        "outputId": "e6d0d827-84ff-4ddd-fdf3-c4b8361afcd5"
      },
      "source": [
        "# get min/max fire_IDS to loop through \n",
        "min_ID = min(list(fire_dict.keys()))\n",
        "max_ID = max(list(fire_dict.keys()))\n",
        "min_ID, max_ID"
      ],
      "execution_count": null,
      "outputs": [
        {
          "output_type": "execute_result",
          "data": {
            "text/plain": [
              "(1, 3867)"
            ]
          },
          "metadata": {
            "tags": []
          },
          "execution_count": 16
        }
      ]
    },
    {
      "cell_type": "code",
      "metadata": {
        "id": "laS6KRofE1R3",
        "colab_type": "code",
        "colab": {}
      },
      "source": [
        "from datetime import datetime\n",
        "def computeArea(feature):\n",
        "  area = feature.geometry().area(1)\n",
        "  return feature.set('Area', area)\n",
        "\n",
        "def computeDate(feature):\n",
        "  jd = ee.Number(feature.getNumber('JD')).format('%s')\n",
        "  jd_dt = ee.Date.parse('yyDDD', jd)\n",
        "  date_str = jd_dt.format('Y-MM-dd')\n",
        "  return feature.set('Date', date_str)\n",
        "\n",
        "def fireID(feature):\n",
        "  ID = ee.Number(fire_ID)\n",
        "  return feature.set('fire_ID', ID)"
      ],
      "execution_count": null,
      "outputs": []
    },
    {
      "cell_type": "code",
      "metadata": {
        "id": "FAMtwXAF7qc6",
        "colab_type": "code",
        "colab": {}
      },
      "source": [
        "# name >> State_Year_minJD_maxJD_FireID.ext\n",
        "outpath = 'FinalProducts'\n",
        "rootPath = \"/content/drive/My Drive/COVID_FireTrends\"\n",
        "\n",
        "for fire_ID in range(663, max_ID + 1):\n",
        "  try:\n",
        "    os.chdir(rootPath)\n",
        "    # filter by fireID\n",
        "    viirs_Grp = VIIRS_FireGrp_EE.filter(ee.Filter.equals('fire_ID', fire_ID))\n",
        "    viirsPnts_list = viirs_Grp.toList(viirs_Grp.size())\n",
        "    v_list= viirsPnts_list.getInfo()\n",
        "\n",
        "    # get min/max JD\n",
        "    min_jd = min([x['properties']['JD'] for x in v_list])\n",
        "    max_jd = max([x['properties']['JD'] for x in v_list])\n",
        "\n",
        "    # get state, year info \n",
        "    state_full = v_list[0]['properties']['STATE_NAME']\n",
        "    state_abr = v_list[0]['properties']['STATE_ABBR']\n",
        "    year = v_list[0]['properties']['Year']\n",
        "\n",
        "    file_name = state_abr + '_' + str(year) + '_' + str(min_jd)[-3:] + str(max_jd)[-3:] + '_' + str(fire_ID) \n",
        "    \n",
        "    viGrp_geo = viirs_Grp.geometry().convexHull()\n",
        "    # [1] merge all AF \n",
        "    Combined_AF = mergeAF(fire_ID, viirs_Grp, min_jd, max_jd, viGrp_geo)\n",
        "\n",
        "    # compute range , sill, nugget , maxDistance\n",
        "    #area = Combined_AF.geometry().convexHull().area()\n",
        "\n",
        "    # [2] interpolate \n",
        "    interpolated = Combined_AF.kriging(propertyName='JD',\n",
        "                                shape='spherical',\n",
        "                                range=500,\n",
        "                                sill=1.0,\n",
        "                                nugget=0.1,\n",
        "                                maxDistance=500,\n",
        "                                reducer='min')\n",
        "    \n",
        "    # [3] Convert to geometry\n",
        "    vectors = interpolated.toLong().reduceToVectors(\n",
        "                geometryType= 'polygon',\n",
        "                geometry = viGrp_geo,\n",
        "                scale=30,\n",
        "                eightConnected= True,\n",
        "                labelProperty= 'JD', crs= 'EPSG:4326')\n",
        "    \n",
        "    # Add Area, Date, Fire_ID\n",
        "    vec = vectors.map(computeArea)\n",
        "    vec = vec.map(computeDate)\n",
        "    vec = vec.map(fireID)\n",
        "\n",
        "    # [4] Save all layers: Combined AF (.shp), Interpolated (.tif), Perimeters (.shp) into folder \n",
        "    vec_path = os.path.join(outpath, 'Perimeters')\n",
        "    st_path = createFolder(vec_path, state_full)\n",
        "    yr_path = createFolder(st_path, str(year))\n",
        "    id_path = createFolder(yr_path, str(fire_ID))\n",
        "    os.chdir(yr_path)\n",
        "    print(file_name)\n",
        "    task = ee.batch.Export.table.toDrive(**{'collection': vec, 'description': str(file_name), 'folder':str(fire_ID), 'fileFormat': 'SHP'})\n",
        "    task.start()\n",
        "  except: \n",
        "    print('error: ', file_name)\n",
        "    continue\n"
      ],
      "execution_count": null,
      "outputs": []
    },
    {
      "cell_type": "markdown",
      "metadata": {
        "id": "ClxLUDzD65_o",
        "colab_type": "text"
      },
      "source": [
        "## Summary Stats"
      ]
    },
    {
      "cell_type": "markdown",
      "metadata": {
        "id": "KsFxzGcpI64l",
        "colab_type": "text"
      },
      "source": [
        "### Compile"
      ]
    },
    {
      "cell_type": "code",
      "metadata": {
        "id": "uGODRa37673t",
        "colab_type": "code",
        "colab": {}
      },
      "source": [
        "# grab all individual fire perimeters\n",
        "outpath = 'Perimers/FinalProducts'\n",
        "daily_per = lstFiles(outpath, 'shp')\n",
        "daily_per[:5]"
      ],
      "execution_count": null,
      "outputs": []
    },
    {
      "cell_type": "code",
      "metadata": {
        "id": "obTG5mNUEU77",
        "colab_type": "code",
        "colab": {}
      },
      "source": [
        "from pathlib import Path\n",
        "import pandas as pd \n",
        "import geopandas as gpd\n",
        "\n",
        "outpath = 'FinalProducts'\n",
        "\n",
        "gdf = pd.concat([\n",
        "    gpd.read_file(shp)\n",
        "    for shp in daily_per\n",
        "]).pipe(gpd.GeoDataFrame)"
      ],
      "execution_count": null,
      "outputs": []
    },
    {
      "cell_type": "code",
      "metadata": {
        "id": "nEoNQ7InKMV8",
        "colab_type": "code",
        "colab": {}
      },
      "source": [
        "# add states\n",
        "state_path = 'Data/US_states/'\n",
        "west_fires = getWestBounds(states_list, state_path, gdf)"
      ],
      "execution_count": null,
      "outputs": []
    },
    {
      "cell_type": "code",
      "metadata": {
        "id": "boQPKTKLcCX0",
        "colab_type": "code",
        "colab": {}
      },
      "source": [
        "# add acres / hectares \n",
        "west_fires['Area_acres'] = west_fires['Area'] * 0.00024710538146717 \n",
        "west_fires['Area_hectares'] = west_fires['Area'] * 0.0001"
      ],
      "execution_count": null,
      "outputs": []
    },
    {
      "cell_type": "code",
      "metadata": {
        "id": "5nHNF81VIbsr",
        "colab_type": "code",
        "colab": {}
      },
      "source": [
        "west_fires['Date']= pd.to_datetime(west_fires['Date'], format= '%Y-%m-%d')\n",
        "west_fires['Year'] = pd.DatetimeIndex(west_fires['Date']).year\n",
        "west_fires['Month'] = pd.DatetimeIndex(west_fires['Date']).month\n",
        "west_fires['JD'] = west_fires['Date'].dt.strftime('%j').astype('int64')\n",
        "\n",
        "west_fires = west_fires[(west_fires['Month'] >= 3) & (west_fires['Month'] <= 6)]\n",
        "west_fires = west_fires[(west_fires['Area_hectares'] >= 3)]\n",
        "west_fires.head()"
      ],
      "execution_count": null,
      "outputs": []
    },
    {
      "cell_type": "code",
      "metadata": {
        "id": "9lDjC_0RIh22",
        "colab_type": "code",
        "colab": {}
      },
      "source": [
        "# count number of fire_ID by state, yr by week \n",
        "west_fires['Week'] = west_fires['Date'].apply(lambda x: \"%d\" % (x.week)).astype('int64')"
      ],
      "execution_count": null,
      "outputs": []
    },
    {
      "cell_type": "code",
      "metadata": {
        "id": "SlbepDZxZP3P",
        "colab_type": "code",
        "colab": {}
      },
      "source": [
        "# save csv, .shp\n",
        "outpath = 'FinalProducts'\n",
        "outFolder = createFolder(outpath, 'ALL_WesternUS')\n",
        "west_fires['Date'] = west_fires['Date'].dt.strftime('%Y-%m-%d')\n",
        "west_fires.to_file(os.path.join(outFolder, 'ALLFirePer_0306_2017_2020.shp')) \n",
        "west_fires.to_csv(os.path.join(outpath, 'ALLFirePer_0306_2017_2020.csv'))"
      ],
      "execution_count": null,
      "outputs": []
    },
    {
      "cell_type": "markdown",
      "metadata": {
        "id": "Bsn2v6qjEe7D",
        "colab_type": "text"
      },
      "source": [
        "### Mask Non-Wildland Fires \n",
        "i.e urban, agricultral area"
      ]
    },
    {
      "cell_type": "code",
      "metadata": {
        "id": "_EQ9wZ20ZwlK",
        "colab_type": "code",
        "colab": {}
      },
      "source": [
        "NLCD = ee.ImageCollection('USGS/NLCD').select('landcover').clip()"
      ],
      "execution_count": 55,
      "outputs": []
    },
    {
      "cell_type": "code",
      "metadata": {
        "id": "3t18_kl2MrYd",
        "colab_type": "code",
        "colab": {}
      },
      "source": [
        "states_list = ['Washington', 'Oregon', 'California', 'Nevada', 'Idaho', 'Utah', 'Arizona', \n",
        "                    'Montana', 'Wyoming', 'Colorado', 'New Mexico']"
      ],
      "execution_count": null,
      "outputs": []
    },
    {
      "cell_type": "code",
      "metadata": {
        "id": "lYd_KoQrI4Ln",
        "colab_type": "code",
        "colab": {
          "base_uri": "https://localhost:8080/",
          "height": 627
        },
        "outputId": "2730cb48-1304-4d3d-ef18-2145d7147d18"
      },
      "source": [
        "Map = emap.Map(center=[-95, 38], zoom=5)\n",
        "Map.addLayer(NLCD, '', 'NLCD')\n",
        "Map.addLayerControl()\n",
        "Map"
      ],
      "execution_count": 59,
      "outputs": [
        {
          "output_type": "execute_result",
          "data": {
            "text/html": [
              "<div style=\"width:100%;\"><div style=\"position:relative;width:100%;height:0;padding-bottom:60%;\"><span style=\"color:#565656\">Make this Notebook Trusted to load map: File -> Trust Notebook</span><iframe src=\"about:blank\" style=\"position:absolute;width:100%;height:100%;left:0;top:0;border:none !important;\" data-html=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 onload=\"this.contentDocument.open();this.contentDocument.write(atob(this.getAttribute('data-html')));this.contentDocument.close();\" allowfullscreen webkitallowfullscreen mozallowfullscreen></iframe></div></div>"
            ],
            "text/plain": [
              "<geemap.eefolium.Map at 0x7f7e3acf5978>"
            ]
          },
          "metadata": {
            "tags": []
          },
          "execution_count": 59
        }
      ]
    },
    {
      "cell_type": "markdown",
      "metadata": {
        "id": "PCXJglDJZxNe",
        "colab_type": "text"
      },
      "source": [
        "### Plots"
      ]
    },
    {
      "cell_type": "code",
      "metadata": {
        "id": "OYUIQrdNlDTn",
        "colab_type": "code",
        "colab": {
          "base_uri": "https://localhost:8080/",
          "height": 544
        },
        "outputId": "91e96934-d62c-459a-d745-56a8ebde19d8"
      },
      "source": [
        "west_fires = gpd.read_file(os.path.join(outFolder, 'ALLFirePer_0306_2017_2020.shp'))\n",
        "west_fires.head()"
      ],
      "execution_count": null,
      "outputs": [
        {
          "output_type": "execute_result",
          "data": {
            "text/html": [
              "<div>\n",
              "<style scoped>\n",
              "    .dataframe tbody tr th:only-of-type {\n",
              "        vertical-align: middle;\n",
              "    }\n",
              "\n",
              "    .dataframe tbody tr th {\n",
              "        vertical-align: top;\n",
              "    }\n",
              "\n",
              "    .dataframe thead th {\n",
              "        text-align: right;\n",
              "    }\n",
              "</style>\n",
              "<table border=\"1\" class=\"dataframe\">\n",
              "  <thead>\n",
              "    <tr style=\"text-align: right;\">\n",
              "      <th></th>\n",
              "      <th>Area</th>\n",
              "      <th>count</th>\n",
              "      <th>JD</th>\n",
              "      <th>fire_ID</th>\n",
              "      <th>Date</th>\n",
              "      <th>STATE_NAME</th>\n",
              "      <th>STATE_ABBR</th>\n",
              "      <th>Area_acres</th>\n",
              "      <th>Area_hecta</th>\n",
              "      <th>Year</th>\n",
              "      <th>Month</th>\n",
              "      <th>Week</th>\n",
              "      <th>geometry</th>\n",
              "    </tr>\n",
              "  </thead>\n",
              "  <tbody>\n",
              "    <tr>\n",
              "      <th>0</th>\n",
              "      <td>102903.145410</td>\n",
              "      <td>167</td>\n",
              "      <td>67</td>\n",
              "      <td>1</td>\n",
              "      <td>2018-03-08</td>\n",
              "      <td>Montana</td>\n",
              "      <td>MT</td>\n",
              "      <td>25.427921</td>\n",
              "      <td>10.290315</td>\n",
              "      <td>2018</td>\n",
              "      <td>3</td>\n",
              "      <td>10</td>\n",
              "      <td>POLYGON ((-110.76093 46.67377, -110.76039 46.6...</td>\n",
              "    </tr>\n",
              "    <tr>\n",
              "      <th>1</th>\n",
              "      <td>61619.251879</td>\n",
              "      <td>100</td>\n",
              "      <td>68</td>\n",
              "      <td>1</td>\n",
              "      <td>2018-03-09</td>\n",
              "      <td>Montana</td>\n",
              "      <td>MT</td>\n",
              "      <td>15.226449</td>\n",
              "      <td>6.161925</td>\n",
              "      <td>2018</td>\n",
              "      <td>3</td>\n",
              "      <td>10</td>\n",
              "      <td>POLYGON ((-110.76147 46.67323, -110.76120 46.6...</td>\n",
              "    </tr>\n",
              "    <tr>\n",
              "      <th>2</th>\n",
              "      <td>649484.079600</td>\n",
              "      <td>1054</td>\n",
              "      <td>69</td>\n",
              "      <td>1</td>\n",
              "      <td>2018-03-10</td>\n",
              "      <td>Montana</td>\n",
              "      <td>MT</td>\n",
              "      <td>160.491011</td>\n",
              "      <td>64.948408</td>\n",
              "      <td>2018</td>\n",
              "      <td>3</td>\n",
              "      <td>10</td>\n",
              "      <td>POLYGON ((-110.76416 46.67458, -110.76389 46.6...</td>\n",
              "    </tr>\n",
              "    <tr>\n",
              "      <th>3</th>\n",
              "      <td>51141.587381</td>\n",
              "      <td>83</td>\n",
              "      <td>64</td>\n",
              "      <td>1</td>\n",
              "      <td>2018-03-05</td>\n",
              "      <td>Montana</td>\n",
              "      <td>MT</td>\n",
              "      <td>12.637361</td>\n",
              "      <td>5.114159</td>\n",
              "      <td>2018</td>\n",
              "      <td>3</td>\n",
              "      <td>10</td>\n",
              "      <td>POLYGON ((-110.76578 46.67458, -110.76416 46.6...</td>\n",
              "    </tr>\n",
              "    <tr>\n",
              "      <th>4</th>\n",
              "      <td>38818.130756</td>\n",
              "      <td>63</td>\n",
              "      <td>63</td>\n",
              "      <td>1</td>\n",
              "      <td>2018-03-04</td>\n",
              "      <td>Montana</td>\n",
              "      <td>MT</td>\n",
              "      <td>9.592169</td>\n",
              "      <td>3.881813</td>\n",
              "      <td>2018</td>\n",
              "      <td>3</td>\n",
              "      <td>9</td>\n",
              "      <td>POLYGON ((-110.76713 46.67458, -110.76578 46.6...</td>\n",
              "    </tr>\n",
              "  </tbody>\n",
              "</table>\n",
              "</div>"
            ],
            "text/plain": [
              "            Area  ...                                           geometry\n",
              "0  102903.145410  ...  POLYGON ((-110.76093 46.67377, -110.76039 46.6...\n",
              "1   61619.251879  ...  POLYGON ((-110.76147 46.67323, -110.76120 46.6...\n",
              "2  649484.079600  ...  POLYGON ((-110.76416 46.67458, -110.76389 46.6...\n",
              "3   51141.587381  ...  POLYGON ((-110.76578 46.67458, -110.76416 46.6...\n",
              "4   38818.130756  ...  POLYGON ((-110.76713 46.67458, -110.76578 46.6...\n",
              "\n",
              "[5 rows x 13 columns]"
            ]
          },
          "metadata": {
            "tags": []
          },
          "execution_count": 203
        }
      ]
    },
    {
      "cell_type": "code",
      "metadata": {
        "id": "3NmTJ_gSZzje",
        "colab_type": "code",
        "colab": {}
      },
      "source": [
        "import seaborn as sns"
      ],
      "execution_count": null,
      "outputs": []
    },
    {
      "cell_type": "markdown",
      "metadata": {
        "id": "zHwspofhkQhj",
        "colab_type": "text"
      },
      "source": [
        "#### Number of Fires"
      ]
    },
    {
      "cell_type": "code",
      "metadata": {
        "id": "5_xRN_7vaJ2f",
        "colab_type": "code",
        "colab": {}
      },
      "source": [
        "\n",
        "west_fires_count = west_fires.groupby(['Week','Year', 'STATE_NAME'])['fire_ID'].nunique().reset_index()\n",
        "west_fires_count.columns = ['Week', 'Year', 'STATE_NAME', 'Count']\n",
        "west_fires_area = west_fires.groupby(['Week', 'Year', 'STATE_NAME'])['Area_hecta'].agg('sum').reset_index()\n",
        "merged_left = pd.merge(left=west_fires_count, right=west_fires_area, how='left', on=['Week', 'Year', 'STATE_NAME'])"
      ],
      "execution_count": null,
      "outputs": []
    },
    {
      "cell_type": "code",
      "metadata": {
        "id": "xhRKgim4KWAk",
        "colab_type": "code",
        "colab": {
          "base_uri": "https://localhost:8080/",
          "height": 419
        },
        "outputId": "bb8d4597-bee9-4ed8-a0fb-3f415d18f8d0"
      },
      "source": [
        "merged_left.to_csv(os.path.join(outpath, 'WeeklyGrouped_0306_2017_2020.csv'), index=None)\n",
        "merged_left"
      ],
      "execution_count": null,
      "outputs": [
        {
          "output_type": "execute_result",
          "data": {
            "text/html": [
              "<div>\n",
              "<style scoped>\n",
              "    .dataframe tbody tr th:only-of-type {\n",
              "        vertical-align: middle;\n",
              "    }\n",
              "\n",
              "    .dataframe tbody tr th {\n",
              "        vertical-align: top;\n",
              "    }\n",
              "\n",
              "    .dataframe thead th {\n",
              "        text-align: right;\n",
              "    }\n",
              "</style>\n",
              "<table border=\"1\" class=\"dataframe\">\n",
              "  <thead>\n",
              "    <tr style=\"text-align: right;\">\n",
              "      <th></th>\n",
              "      <th>Week</th>\n",
              "      <th>Year</th>\n",
              "      <th>STATE_NAME</th>\n",
              "      <th>Count</th>\n",
              "      <th>Area_hecta</th>\n",
              "    </tr>\n",
              "  </thead>\n",
              "  <tbody>\n",
              "    <tr>\n",
              "      <th>0</th>\n",
              "      <td>9</td>\n",
              "      <td>2017</td>\n",
              "      <td>California</td>\n",
              "      <td>13</td>\n",
              "      <td>434.950030</td>\n",
              "    </tr>\n",
              "    <tr>\n",
              "      <th>1</th>\n",
              "      <td>9</td>\n",
              "      <td>2020</td>\n",
              "      <td>Washington</td>\n",
              "      <td>6</td>\n",
              "      <td>686.266455</td>\n",
              "    </tr>\n",
              "    <tr>\n",
              "      <th>2</th>\n",
              "      <td>9</td>\n",
              "      <td>2020</td>\n",
              "      <td>Oregon</td>\n",
              "      <td>3</td>\n",
              "      <td>56.182295</td>\n",
              "    </tr>\n",
              "    <tr>\n",
              "      <th>3</th>\n",
              "      <td>9</td>\n",
              "      <td>2020</td>\n",
              "      <td>Colorado</td>\n",
              "      <td>5</td>\n",
              "      <td>42.267931</td>\n",
              "    </tr>\n",
              "    <tr>\n",
              "      <th>4</th>\n",
              "      <td>9</td>\n",
              "      <td>2020</td>\n",
              "      <td>California</td>\n",
              "      <td>54</td>\n",
              "      <td>4638.831977</td>\n",
              "    </tr>\n",
              "    <tr>\n",
              "      <th>...</th>\n",
              "      <td>...</td>\n",
              "      <td>...</td>\n",
              "      <td>...</td>\n",
              "      <td>...</td>\n",
              "      <td>...</td>\n",
              "    </tr>\n",
              "    <tr>\n",
              "      <th>613</th>\n",
              "      <td>26</td>\n",
              "      <td>2017</td>\n",
              "      <td>California</td>\n",
              "      <td>23</td>\n",
              "      <td>5171.198388</td>\n",
              "    </tr>\n",
              "    <tr>\n",
              "      <th>614</th>\n",
              "      <td>26</td>\n",
              "      <td>2017</td>\n",
              "      <td>Arizona</td>\n",
              "      <td>14</td>\n",
              "      <td>22485.454070</td>\n",
              "    </tr>\n",
              "    <tr>\n",
              "      <th>615</th>\n",
              "      <td>26</td>\n",
              "      <td>2019</td>\n",
              "      <td>Utah</td>\n",
              "      <td>4</td>\n",
              "      <td>1924.029578</td>\n",
              "    </tr>\n",
              "    <tr>\n",
              "      <th>616</th>\n",
              "      <td>26</td>\n",
              "      <td>2018</td>\n",
              "      <td>Colorado</td>\n",
              "      <td>10</td>\n",
              "      <td>10357.921492</td>\n",
              "    </tr>\n",
              "    <tr>\n",
              "      <th>617</th>\n",
              "      <td>26</td>\n",
              "      <td>2019</td>\n",
              "      <td>Washington</td>\n",
              "      <td>2</td>\n",
              "      <td>369.340300</td>\n",
              "    </tr>\n",
              "  </tbody>\n",
              "</table>\n",
              "<p>618 rows × 5 columns</p>\n",
              "</div>"
            ],
            "text/plain": [
              "     Week  Year  STATE_NAME  Count    Area_hecta\n",
              "0       9  2017  California     13    434.950030\n",
              "1       9  2020  Washington      6    686.266455\n",
              "2       9  2020      Oregon      3     56.182295\n",
              "3       9  2020    Colorado      5     42.267931\n",
              "4       9  2020  California     54   4638.831977\n",
              "..    ...   ...         ...    ...           ...\n",
              "613    26  2017  California     23   5171.198388\n",
              "614    26  2017     Arizona     14  22485.454070\n",
              "615    26  2019        Utah      4   1924.029578\n",
              "616    26  2018    Colorado     10  10357.921492\n",
              "617    26  2019  Washington      2    369.340300\n",
              "\n",
              "[618 rows x 5 columns]"
            ]
          },
          "metadata": {
            "tags": []
          },
          "execution_count": 223
        }
      ]
    },
    {
      "cell_type": "code",
      "metadata": {
        "id": "rKXjMCC8gzmQ",
        "colab_type": "code",
        "colab": {
          "base_uri": "https://localhost:8080/",
          "height": 869
        },
        "outputId": "8f0a1bb2-0fa0-422a-b37b-321892cb2885"
      },
      "source": [
        "sns.set(style='ticks')\n",
        "# Define a palette to ensure that colors will be\n",
        "# shared across the facets\n",
        "yrs = [2017, 2018, 2019, 2020]\n",
        "colors = ['#4f0b27', '#465442', '#5a4436', '#fb9214']\n",
        "palette = dict(zip(yrs,colors))\n",
        "kws=dict(sharex=False, sharey=False)\n",
        "\n",
        "# Plot the lines on two facets\n",
        "# g = sns.relplot(x=\"Week\", y=\"Area_hectares\", col_wrap=3,\n",
        "#             hue=\"Year\", col=\"STATE_NAME\",\n",
        "#             palette=palette, facet_kws=dict(sharex=False, sharey=False),\n",
        "#             kind=\"line\", legend=\"full\", data=west_fires_area)\n",
        "\n",
        "g = sns.FacetGrid(west_fires_grp, col=\"STATE_NAME\", col_wrap=3, height=3, palette=palette, hue=\"Year\",**kws)\n",
        "g = (g.map(plt.plot, \"Week\", \"Count\")\n",
        "    .set_titles(\"{col_name}\")\n",
        "    .set_ylabels('Count'))\n",
        "\n",
        "plt.savefig('Figures/Fire_Count_Weekly.png', dpi = 200)"
      ],
      "execution_count": null,
      "outputs": [
        {
          "output_type": "display_data",
          "data": {
            "image/png": "[encoded data removed]",
            "text/plain": [
              "<Figure size 648x864 with 11 Axes>"
            ]
          },
          "metadata": {
            "tags": []
          }
        }
      ]
    },
    {
      "cell_type": "code",
      "metadata": {
        "id": "9npbjlErrR9b",
        "colab_type": "code",
        "colab": {
          "base_uri": "https://localhost:8080/",
          "height": 365
        },
        "outputId": "e7b74ca5-b1fd-4adc-a22a-153f98c82bc0"
      },
      "source": [
        "# Plot the lines on two facets\n",
        "sns.relplot(x=\"Week\", y=\"Count\",\n",
        "            hue=\"Year\", \n",
        "            palette=palette, facet_kws=dict(sharex=False, sharey=False),\n",
        "            kind=\"line\", legend=\"full\", data=west_fires_grp)\n",
        "\n",
        "plt.savefig('Figures/Fire_ALL_Count_Weekly.png', dpi = 400)"
      ],
      "execution_count": null,
      "outputs": [
        {
          "output_type": "display_data",
          "data": {
            "image/png": "[encoded data removed]",
            "text/plain": [
              "<Figure size 427.475x360 with 1 Axes>"
            ]
          },
          "metadata": {
            "tags": []
          }
        }
      ]
    },
    {
      "cell_type": "markdown",
      "metadata": {
        "id": "lbmILe9XkUTI",
        "colab_type": "text"
      },
      "source": [
        "### AreaBurned"
      ]
    },
    {
      "cell_type": "code",
      "metadata": {
        "id": "jWTkLpqLl61V",
        "colab_type": "code",
        "colab": {}
      },
      "source": [
        "west_fires['log_area'] = np.log10(west_fires.Area_hectares)"
      ],
      "execution_count": null,
      "outputs": []
    },
    {
      "cell_type": "code",
      "metadata": {
        "id": "viQxfcCqkWjd",
        "colab_type": "code",
        "colab": {
          "base_uri": "https://localhost:8080/",
          "height": 419
        },
        "outputId": "9172b0fd-0363-4aeb-d258-8763e2e53d4e"
      },
      "source": [
        "west_fires_area = west_fires.groupby(['Week', 'Year', 'STATE_NAME'])['Area_hectares'].agg('sum').reset_index()\n",
        "west_fires_area"
      ],
      "execution_count": null,
      "outputs": [
        {
          "output_type": "execute_result",
          "data": {
            "text/html": [
              "<div>\n",
              "<style scoped>\n",
              "    .dataframe tbody tr th:only-of-type {\n",
              "        vertical-align: middle;\n",
              "    }\n",
              "\n",
              "    .dataframe tbody tr th {\n",
              "        vertical-align: top;\n",
              "    }\n",
              "\n",
              "    .dataframe thead th {\n",
              "        text-align: right;\n",
              "    }\n",
              "</style>\n",
              "<table border=\"1\" class=\"dataframe\">\n",
              "  <thead>\n",
              "    <tr style=\"text-align: right;\">\n",
              "      <th></th>\n",
              "      <th>Week</th>\n",
              "      <th>Year</th>\n",
              "      <th>STATE_NAME</th>\n",
              "      <th>Area_hectares</th>\n",
              "    </tr>\n",
              "  </thead>\n",
              "  <tbody>\n",
              "    <tr>\n",
              "      <th>0</th>\n",
              "      <td>9</td>\n",
              "      <td>2017</td>\n",
              "      <td>California</td>\n",
              "      <td>434.950030</td>\n",
              "    </tr>\n",
              "    <tr>\n",
              "      <th>1</th>\n",
              "      <td>9</td>\n",
              "      <td>2017</td>\n",
              "      <td>Colorado</td>\n",
              "      <td>965.642442</td>\n",
              "    </tr>\n",
              "    <tr>\n",
              "      <th>2</th>\n",
              "      <td>9</td>\n",
              "      <td>2017</td>\n",
              "      <td>Nevada</td>\n",
              "      <td>129.720543</td>\n",
              "    </tr>\n",
              "    <tr>\n",
              "      <th>3</th>\n",
              "      <td>9</td>\n",
              "      <td>2017</td>\n",
              "      <td>New Mexico</td>\n",
              "      <td>921.484194</td>\n",
              "    </tr>\n",
              "    <tr>\n",
              "      <th>4</th>\n",
              "      <td>9</td>\n",
              "      <td>2017</td>\n",
              "      <td>Wyoming</td>\n",
              "      <td>18.428681</td>\n",
              "    </tr>\n",
              "    <tr>\n",
              "      <th>...</th>\n",
              "      <td>...</td>\n",
              "      <td>...</td>\n",
              "      <td>...</td>\n",
              "      <td>...</td>\n",
              "    </tr>\n",
              "    <tr>\n",
              "      <th>613</th>\n",
              "      <td>26</td>\n",
              "      <td>2019</td>\n",
              "      <td>California</td>\n",
              "      <td>1133.849037</td>\n",
              "    </tr>\n",
              "    <tr>\n",
              "      <th>614</th>\n",
              "      <td>26</td>\n",
              "      <td>2019</td>\n",
              "      <td>Colorado</td>\n",
              "      <td>1400.973202</td>\n",
              "    </tr>\n",
              "    <tr>\n",
              "      <th>615</th>\n",
              "      <td>26</td>\n",
              "      <td>2019</td>\n",
              "      <td>New Mexico</td>\n",
              "      <td>5977.674576</td>\n",
              "    </tr>\n",
              "    <tr>\n",
              "      <th>616</th>\n",
              "      <td>26</td>\n",
              "      <td>2019</td>\n",
              "      <td>Utah</td>\n",
              "      <td>1924.029578</td>\n",
              "    </tr>\n",
              "    <tr>\n",
              "      <th>617</th>\n",
              "      <td>26</td>\n",
              "      <td>2019</td>\n",
              "      <td>Washington</td>\n",
              "      <td>369.340300</td>\n",
              "    </tr>\n",
              "  </tbody>\n",
              "</table>\n",
              "<p>618 rows × 4 columns</p>\n",
              "</div>"
            ],
            "text/plain": [
              "     Week  Year  STATE_NAME  Area_hectares\n",
              "0       9  2017  California     434.950030\n",
              "1       9  2017    Colorado     965.642442\n",
              "2       9  2017      Nevada     129.720543\n",
              "3       9  2017  New Mexico     921.484194\n",
              "4       9  2017     Wyoming      18.428681\n",
              "..    ...   ...         ...            ...\n",
              "613    26  2019  California    1133.849037\n",
              "614    26  2019    Colorado    1400.973202\n",
              "615    26  2019  New Mexico    5977.674576\n",
              "616    26  2019        Utah    1924.029578\n",
              "617    26  2019  Washington     369.340300\n",
              "\n",
              "[618 rows x 4 columns]"
            ]
          },
          "metadata": {
            "tags": []
          },
          "execution_count": 187
        }
      ]
    },
    {
      "cell_type": "code",
      "metadata": {
        "id": "IDKnpwevlXse",
        "colab_type": "code",
        "colab": {
          "base_uri": "https://localhost:8080/",
          "height": 869
        },
        "outputId": "3d19c36b-8758-45b9-c461-bb9b5d44bc00"
      },
      "source": [
        "sns.set(style='ticks')\n",
        "# Define a palette to ensure that colors will be\n",
        "# shared across the facets\n",
        "yrs = [2017, 2018, 2019, 2020]\n",
        "colors = ['#4f0b27', '#465442', '#5a4436', '#fb9214']\n",
        "palette = dict(zip(yrs,colors))\n",
        "kws=dict(sharex=False, sharey=False)\n",
        "\n",
        "# Plot the lines on two facets\n",
        "# g = sns.relplot(x=\"Week\", y=\"Area_hectares\", col_wrap=3,\n",
        "#             hue=\"Year\", col=\"STATE_NAME\",\n",
        "#             palette=palette, facet_kws=dict(sharex=False, sharey=False),\n",
        "#             kind=\"line\", legend=\"full\", data=west_fires_area)\n",
        "\n",
        "g = sns.FacetGrid(west_fires_area, col=\"STATE_NAME\", col_wrap=3, height=3, palette=palette, hue=\"Year\",**kws)\n",
        "g = (g.map(plt.plot, \"Week\", \"Area_hectares\")\n",
        "    .set_titles(\"{col_name}\")\n",
        "    .set_ylabels('Area (ha)'))\n",
        "\n",
        "plt.savefig('Figures/Fire_AreaBurned_Weekly.png', dpi = 200)"
      ],
      "execution_count": null,
      "outputs": [
        {
          "output_type": "display_data",
          "data": {
            "image/png": "[encoded data removed]",
            "text/plain": [
              "<Figure size 648x864 with 11 Axes>"
            ]
          },
          "metadata": {
            "tags": []
          }
        }
      ]
    },
    {
      "cell_type": "code",
      "metadata": {
        "id": "53_ut6_ulx5z",
        "colab_type": "code",
        "colab": {
          "base_uri": "https://localhost:8080/",
          "height": 365
        },
        "outputId": "cfa464df-0053-484e-adb3-e4fb7559b0fb"
      },
      "source": [
        "# Plot the lines on two facets\n",
        "sns.relplot(x=\"Week\", y=\"Area_hectares\", \n",
        "            hue=\"Year\",\n",
        "            palette=palette, facet_kws=dict(sharex=False, sharey=False),\n",
        "            kind=\"line\", legend=\"full\", data=west_fires_area)\n",
        "\n",
        "plt.savefig('Figures/Fire_ALL_AreaBurned_Weekly.png', dpi = 400)"
      ],
      "execution_count": null,
      "outputs": [
        {
          "output_type": "display_data",
          "data": {
            "image/png": "[encoded data removed]",
            "text/plain": [
              "<Figure size 427.475x360 with 1 Axes>"
            ]
          },
          "metadata": {
            "tags": []
          }
        }
      ]
    },
    {
      "cell_type": "code",
      "metadata": {
        "id": "QeAzjclPp5S-",
        "colab_type": "code",
        "colab": {}
      },
      "source": [
        ""
      ],
      "execution_count": null,
      "outputs": []
    },
    {
      "cell_type": "markdown",
      "metadata": {
        "id": "Uhf-Dp70HbjB",
        "colab_type": "text"
      },
      "source": [
        "## Git Setup"
      ]
    },
    {
      "cell_type": "code",
      "metadata": {
        "id": "bhjx-TlsIdUL",
        "colab_type": "code",
        "colab": {}
      },
      "source": [
        "! echo \"# WesternFireTrends\" >> README.md"
      ],
      "execution_count": 31,
      "outputs": []
    },
    {
      "cell_type": "code",
      "metadata": {
        "id": "SVOPuj9AFwpj",
        "colab_type": "code",
        "colab": {
          "base_uri": "https://localhost:8080/",
          "height": 34
        },
        "outputId": "57a1df34-4d12-49dd-fc94-5ee1e7a90ea3"
      },
      "source": [
        "! git init\n",
        "! git add README.md"
      ],
      "execution_count": 32,
      "outputs": [
        {
          "output_type": "stream",
          "text": [
            "Reinitialized existing Git repository in /content/drive/My Drive/COVID_FireTrends/.git/\n"
          ],
          "name": "stdout"
        }
      ]
    },
    {
      "cell_type": "code",
      "metadata": {
        "id": "nVrlYzgnIQCd",
        "colab_type": "code",
        "colab": {
          "base_uri": "https://localhost:8080/",
          "height": 663
        },
        "outputId": "f60e2f92-19b9-4bdf-fdcb-a0ade899c733"
      },
      "source": [
        "! git config --global user.email \"escaduto@ucdavis.edu\"\n",
        "! git config — global user.name escaduto"
      ],
      "execution_count": 60,
      "outputs": [
        {
          "output_type": "stream",
          "text": [
            "usage: git config [<options>]\n",
            "\n",
            "Config file location\n",
            "    --global              use global config file\n",
            "    --system              use system config file\n",
            "    --local               use repository config file\n",
            "    -f, --file <file>     use given config file\n",
            "    --blob <blob-id>      read config from given blob object\n",
            "\n",
            "Action\n",
            "    --get                 get value: name [value-regex]\n",
            "    --get-all             get all values: key [value-regex]\n",
            "    --get-regexp          get values for regexp: name-regex [value-regex]\n",
            "    --get-urlmatch        get value specific for the URL: section[.var] URL\n",
            "    --replace-all         replace all matching variables: name value [value_regex]\n",
            "    --add                 add a new variable: name value\n",
            "    --unset               remove a variable: name [value-regex]\n",
            "    --unset-all           remove all matches: name [value-regex]\n",
            "    --rename-section      rename section: old-name new-name\n",
            "    --remove-section      remove a section: name\n",
            "    -l, --list            list all\n",
            "    -e, --edit            open an editor\n",
            "    --get-color           find the color configured: slot [default]\n",
            "    --get-colorbool       find the color setting: slot [stdout-is-tty]\n",
            "\n",
            "Type\n",
            "    --bool                value is \"true\" or \"false\"\n",
            "    --int                 value is decimal number\n",
            "    --bool-or-int         value is --bool or --int\n",
            "    --path                value is a path (file or directory name)\n",
            "    --expiry-date         value is an expiry date\n",
            "\n",
            "Other\n",
            "    -z, --null            terminate values with NUL byte\n",
            "    --name-only           show variable names only\n",
            "    --includes            respect include directives on lookup\n",
            "    --show-origin         show origin of config (file, standard input, blob, command line)\n",
            "\n"
          ],
          "name": "stdout"
        }
      ]
    },
    {
      "cell_type": "code",
      "metadata": {
        "id": "1mu3b-STI-BS",
        "colab_type": "code",
        "colab": {}
      },
      "source": [
        "! git add 'FireTrends_WesternUS_06182020'"
      ],
      "execution_count": 45,
      "outputs": []
    },
    {
      "cell_type": "code",
      "metadata": {
        "id": "hhzP0pmMJCgJ",
        "colab_type": "code",
        "colab": {
          "base_uri": "https://localhost:8080/",
          "height": 51
        },
        "outputId": "9dc6639e-207b-4d29-9025-5ac8a200478c"
      },
      "source": [
        "! git commit -m 'add firetrends notebook'"
      ],
      "execution_count": 46,
      "outputs": [
        {
          "output_type": "stream",
          "text": [
            "[master d96f376] add firetrends notebook\n",
            " 1 file changed, 1 insertion(+), 1 deletion(-)\n"
          ],
          "name": "stdout"
        }
      ]
    },
    {
      "cell_type": "code",
      "metadata": {
        "id": "cbQ08TTmLJpl",
        "colab_type": "code",
        "colab": {
          "base_uri": "https://localhost:8080/",
          "height": 102
        },
        "outputId": "46a42f8b-728a-4a4f-d48f-45afa3a14e30"
      },
      "source": [
        "! git push"
      ],
      "execution_count": 49,
      "outputs": [
        {
          "output_type": "stream",
          "text": [
            "fatal: The current branch master has no upstream branch.\n",
            "To push the current branch and set the remote as upstream, use\n",
            "\n",
            "    git push --set-upstream origin master\n",
            "\n"
          ],
          "name": "stdout"
        }
      ]
    },
    {
      "cell_type": "code",
      "metadata": {
        "id": "62V_VnWaHGTB",
        "colab_type": "code",
        "colab": {
          "base_uri": "https://localhost:8080/",
          "height": 51
        },
        "outputId": "14197d26-aa8e-475a-8748-a8d19e102011"
      },
      "source": [
        "! git remote add origin https://github.com/escaduto/WesternFireTrends.git\n",
        "! git push -u origin master"
      ],
      "execution_count": 48,
      "outputs": [
        {
          "output_type": "stream",
          "text": [
            "fatal: remote origin already exists.\n",
            "fatal: could not read Username for 'https://github.com': No such device or address\n"
          ],
          "name": "stdout"
        }
      ]
    }
  ]
}